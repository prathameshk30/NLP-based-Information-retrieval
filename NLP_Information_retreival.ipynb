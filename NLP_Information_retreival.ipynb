{
  "cells": [
    {
      "cell_type": "markdown",
      "metadata": {
        "id": "view-in-github",
        "colab_type": "text"
      },
      "source": [
        "<a href=\"https://colab.research.google.com/github/prathameshk30/NLP-based-Information-retrieval/blob/main/NLP_Information_retreival.ipynb\" target=\"_parent\"><img src=\"https://colab.research.google.com/assets/colab-badge.svg\" alt=\"Open In Colab\"/></a>"
      ]
    },
    {
      "cell_type": "code",
      "execution_count": 1,
      "metadata": {
        "colab": {
          "base_uri": "https://localhost:8080/"
        },
        "id": "j8l9Hof3SI21",
        "outputId": "3023423a-58e0-41a2-a8ff-27a4373fb44f"
      },
      "outputs": [
        {
          "output_type": "stream",
          "name": "stdout",
          "text": [
            "Looking in indexes: https://pypi.org/simple, https://us-python.pkg.dev/colab-wheels/public/simple/\n",
            "Collecting https://s3-us-west-2.amazonaws.com/ai2-s2-scispacy/releases/v0.2.4/en_core_sci_lg-0.2.4.tar.gz\n",
            "  Downloading https://s3-us-west-2.amazonaws.com/ai2-s2-scispacy/releases/v0.2.4/en_core_sci_lg-0.2.4.tar.gz (500.6 MB)\n",
            "\u001b[2K     \u001b[90m━━━━━━━━━━━━━━━━━━━━━━━━━━━━━━━━━━━━━━━\u001b[0m \u001b[32m500.6/500.6 MB\u001b[0m \u001b[31m1.9 MB/s\u001b[0m eta \u001b[36m0:00:00\u001b[0m\n",
            "\u001b[?25h  Preparing metadata (setup.py) ... \u001b[?25l\u001b[?25hdone\n",
            "Requirement already satisfied: spacy>=2.2.1 in /usr/local/lib/python3.10/dist-packages (from en-core-sci-lg==0.2.4) (3.5.2)\n",
            "Requirement already satisfied: spacy-legacy<3.1.0,>=3.0.11 in /usr/local/lib/python3.10/dist-packages (from spacy>=2.2.1->en-core-sci-lg==0.2.4) (3.0.12)\n",
            "Requirement already satisfied: spacy-loggers<2.0.0,>=1.0.0 in /usr/local/lib/python3.10/dist-packages (from spacy>=2.2.1->en-core-sci-lg==0.2.4) (1.0.4)\n",
            "Requirement already satisfied: murmurhash<1.1.0,>=0.28.0 in /usr/local/lib/python3.10/dist-packages (from spacy>=2.2.1->en-core-sci-lg==0.2.4) (1.0.9)\n",
            "Requirement already satisfied: cymem<2.1.0,>=2.0.2 in /usr/local/lib/python3.10/dist-packages (from spacy>=2.2.1->en-core-sci-lg==0.2.4) (2.0.7)\n",
            "Requirement already satisfied: preshed<3.1.0,>=3.0.2 in /usr/local/lib/python3.10/dist-packages (from spacy>=2.2.1->en-core-sci-lg==0.2.4) (3.0.8)\n",
            "Requirement already satisfied: thinc<8.2.0,>=8.1.8 in /usr/local/lib/python3.10/dist-packages (from spacy>=2.2.1->en-core-sci-lg==0.2.4) (8.1.9)\n",
            "Requirement already satisfied: wasabi<1.2.0,>=0.9.1 in /usr/local/lib/python3.10/dist-packages (from spacy>=2.2.1->en-core-sci-lg==0.2.4) (1.1.1)\n",
            "Requirement already satisfied: srsly<3.0.0,>=2.4.3 in /usr/local/lib/python3.10/dist-packages (from spacy>=2.2.1->en-core-sci-lg==0.2.4) (2.4.6)\n",
            "Requirement already satisfied: catalogue<2.1.0,>=2.0.6 in /usr/local/lib/python3.10/dist-packages (from spacy>=2.2.1->en-core-sci-lg==0.2.4) (2.0.8)\n",
            "Requirement already satisfied: typer<0.8.0,>=0.3.0 in /usr/local/lib/python3.10/dist-packages (from spacy>=2.2.1->en-core-sci-lg==0.2.4) (0.7.0)\n",
            "Requirement already satisfied: pathy>=0.10.0 in /usr/local/lib/python3.10/dist-packages (from spacy>=2.2.1->en-core-sci-lg==0.2.4) (0.10.1)\n",
            "Requirement already satisfied: smart-open<7.0.0,>=5.2.1 in /usr/local/lib/python3.10/dist-packages (from spacy>=2.2.1->en-core-sci-lg==0.2.4) (6.3.0)\n",
            "Requirement already satisfied: tqdm<5.0.0,>=4.38.0 in /usr/local/lib/python3.10/dist-packages (from spacy>=2.2.1->en-core-sci-lg==0.2.4) (4.65.0)\n",
            "Requirement already satisfied: numpy>=1.15.0 in /usr/local/lib/python3.10/dist-packages (from spacy>=2.2.1->en-core-sci-lg==0.2.4) (1.22.4)\n",
            "Requirement already satisfied: requests<3.0.0,>=2.13.0 in /usr/local/lib/python3.10/dist-packages (from spacy>=2.2.1->en-core-sci-lg==0.2.4) (2.27.1)\n",
            "Requirement already satisfied: pydantic!=1.8,!=1.8.1,<1.11.0,>=1.7.4 in /usr/local/lib/python3.10/dist-packages (from spacy>=2.2.1->en-core-sci-lg==0.2.4) (1.10.7)\n",
            "Requirement already satisfied: jinja2 in /usr/local/lib/python3.10/dist-packages (from spacy>=2.2.1->en-core-sci-lg==0.2.4) (3.1.2)\n",
            "Requirement already satisfied: setuptools in /usr/local/lib/python3.10/dist-packages (from spacy>=2.2.1->en-core-sci-lg==0.2.4) (67.7.2)\n",
            "Requirement already satisfied: packaging>=20.0 in /usr/local/lib/python3.10/dist-packages (from spacy>=2.2.1->en-core-sci-lg==0.2.4) (23.1)\n",
            "Requirement already satisfied: langcodes<4.0.0,>=3.2.0 in /usr/local/lib/python3.10/dist-packages (from spacy>=2.2.1->en-core-sci-lg==0.2.4) (3.3.0)\n",
            "Requirement already satisfied: typing-extensions>=4.2.0 in /usr/local/lib/python3.10/dist-packages (from pydantic!=1.8,!=1.8.1,<1.11.0,>=1.7.4->spacy>=2.2.1->en-core-sci-lg==0.2.4) (4.5.0)\n",
            "Requirement already satisfied: urllib3<1.27,>=1.21.1 in /usr/local/lib/python3.10/dist-packages (from requests<3.0.0,>=2.13.0->spacy>=2.2.1->en-core-sci-lg==0.2.4) (1.26.15)\n",
            "Requirement already satisfied: certifi>=2017.4.17 in /usr/local/lib/python3.10/dist-packages (from requests<3.0.0,>=2.13.0->spacy>=2.2.1->en-core-sci-lg==0.2.4) (2022.12.7)\n",
            "Requirement already satisfied: charset-normalizer~=2.0.0 in /usr/local/lib/python3.10/dist-packages (from requests<3.0.0,>=2.13.0->spacy>=2.2.1->en-core-sci-lg==0.2.4) (2.0.12)\n",
            "Requirement already satisfied: idna<4,>=2.5 in /usr/local/lib/python3.10/dist-packages (from requests<3.0.0,>=2.13.0->spacy>=2.2.1->en-core-sci-lg==0.2.4) (3.4)\n",
            "Requirement already satisfied: blis<0.8.0,>=0.7.8 in /usr/local/lib/python3.10/dist-packages (from thinc<8.2.0,>=8.1.8->spacy>=2.2.1->en-core-sci-lg==0.2.4) (0.7.9)\n",
            "Requirement already satisfied: confection<1.0.0,>=0.0.1 in /usr/local/lib/python3.10/dist-packages (from thinc<8.2.0,>=8.1.8->spacy>=2.2.1->en-core-sci-lg==0.2.4) (0.0.4)\n",
            "Requirement already satisfied: click<9.0.0,>=7.1.1 in /usr/local/lib/python3.10/dist-packages (from typer<0.8.0,>=0.3.0->spacy>=2.2.1->en-core-sci-lg==0.2.4) (8.1.3)\n",
            "Requirement already satisfied: MarkupSafe>=2.0 in /usr/local/lib/python3.10/dist-packages (from jinja2->spacy>=2.2.1->en-core-sci-lg==0.2.4) (2.1.2)\n",
            "Building wheels for collected packages: en-core-sci-lg\n",
            "  Building wheel for en-core-sci-lg (setup.py) ... \u001b[?25l\u001b[?25hdone\n",
            "  Created wheel for en-core-sci-lg: filename=en_core_sci_lg-0.2.4-py3-none-any.whl size=501343146 sha256=8a636bc678b60c60fcf54147aa49cfb350de845204d81da76c1338c878fb140b\n",
            "  Stored in directory: /root/.cache/pip/wheels/66/da/d2/71fb4c90c568621f8302ba0924a9097e73f9f4d9779ba0477d\n",
            "Successfully built en-core-sci-lg\n",
            "Installing collected packages: en-core-sci-lg\n",
            "Successfully installed en-core-sci-lg-0.2.4\n",
            "Looking in indexes: https://pypi.org/simple, https://us-python.pkg.dev/colab-wheels/public/simple/\n",
            "Collecting git+https://github.com/JonasTriki/inf368-exercise-3-coordle.git\n",
            "  Cloning https://github.com/JonasTriki/inf368-exercise-3-coordle.git to /tmp/pip-req-build-a0pbdodd\n",
            "  Running command git clone --filter=blob:none --quiet https://github.com/JonasTriki/inf368-exercise-3-coordle.git /tmp/pip-req-build-a0pbdodd\n",
            "  Resolved https://github.com/JonasTriki/inf368-exercise-3-coordle.git to commit d31951244949ab9042d8af168c6a144b7cec6e7e\n",
            "  Preparing metadata (setup.py) ... \u001b[?25l\u001b[?25hdone\n",
            "Requirement already satisfied: numpy>=1.17.2 in /usr/local/lib/python3.10/dist-packages (from coordle==0.0.1) (1.22.4)\n",
            "Requirement already satisfied: pandas>=0.25.1 in /usr/local/lib/python3.10/dist-packages (from coordle==0.0.1) (1.5.3)\n",
            "Collecting scispacy>=0.2.4 (from coordle==0.0.1)\n",
            "  Downloading scispacy-0.5.2-py3-none-any.whl (45 kB)\n",
            "\u001b[2K     \u001b[90m━━━━━━━━━━━━━━━━━━━━━━━━━━━━━━━━━━━━━━━━\u001b[0m \u001b[32m45.1/45.1 kB\u001b[0m \u001b[31m6.9 MB/s\u001b[0m eta \u001b[36m0:00:00\u001b[0m\n",
            "\u001b[?25hRequirement already satisfied: scipy>=1.4.1 in /usr/local/lib/python3.10/dist-packages (from coordle==0.0.1) (1.10.1)\n",
            "Requirement already satisfied: numba>=0.45.1 in /usr/local/lib/python3.10/dist-packages (from coordle==0.0.1) (0.56.4)\n",
            "Requirement already satisfied: gensim>=3.8.1 in /usr/local/lib/python3.10/dist-packages (from coordle==0.0.1) (4.3.1)\n",
            "Requirement already satisfied: nltk>=3.4.5 in /usr/local/lib/python3.10/dist-packages (from coordle==0.0.1) (3.8.1)\n",
            "Collecting spacy-langdetect>=0.1.2 (from coordle==0.0.1)\n",
            "  Downloading spacy_langdetect-0.1.2-py3-none-any.whl (5.0 kB)\n",
            "Requirement already satisfied: smart-open>=1.8.1 in /usr/local/lib/python3.10/dist-packages (from gensim>=3.8.1->coordle==0.0.1) (6.3.0)\n",
            "Requirement already satisfied: click in /usr/local/lib/python3.10/dist-packages (from nltk>=3.4.5->coordle==0.0.1) (8.1.3)\n",
            "Requirement already satisfied: joblib in /usr/local/lib/python3.10/dist-packages (from nltk>=3.4.5->coordle==0.0.1) (1.2.0)\n",
            "Requirement already satisfied: regex>=2021.8.3 in /usr/local/lib/python3.10/dist-packages (from nltk>=3.4.5->coordle==0.0.1) (2022.10.31)\n",
            "Requirement already satisfied: tqdm in /usr/local/lib/python3.10/dist-packages (from nltk>=3.4.5->coordle==0.0.1) (4.65.0)\n",
            "Requirement already satisfied: llvmlite<0.40,>=0.39.0dev0 in /usr/local/lib/python3.10/dist-packages (from numba>=0.45.1->coordle==0.0.1) (0.39.1)\n",
            "Requirement already satisfied: setuptools in /usr/local/lib/python3.10/dist-packages (from numba>=0.45.1->coordle==0.0.1) (67.7.2)\n",
            "Requirement already satisfied: python-dateutil>=2.8.1 in /usr/local/lib/python3.10/dist-packages (from pandas>=0.25.1->coordle==0.0.1) (2.8.2)\n",
            "Requirement already satisfied: pytz>=2020.1 in /usr/local/lib/python3.10/dist-packages (from pandas>=0.25.1->coordle==0.0.1) (2022.7.1)\n",
            "Collecting spacy<3.5.0,>=3.4.0 (from scispacy>=0.2.4->coordle==0.0.1)\n",
            "  Downloading spacy-3.4.4-cp310-cp310-manylinux_2_17_x86_64.manylinux2014_x86_64.whl (6.5 MB)\n",
            "\u001b[2K     \u001b[90m━━━━━━━━━━━━━━━━━━━━━━━━━━━━━━━━━━━━━━━━\u001b[0m \u001b[32m6.5/6.5 MB\u001b[0m \u001b[31m118.3 MB/s\u001b[0m eta \u001b[36m0:00:00\u001b[0m\n",
            "\u001b[?25hRequirement already satisfied: requests<3.0.0,>=2.0.0 in /usr/local/lib/python3.10/dist-packages (from scispacy>=0.2.4->coordle==0.0.1) (2.27.1)\n",
            "Collecting conllu (from scispacy>=0.2.4->coordle==0.0.1)\n",
            "  Downloading conllu-4.5.2-py2.py3-none-any.whl (16 kB)\n",
            "Collecting nmslib>=1.7.3.6 (from scispacy>=0.2.4->coordle==0.0.1)\n",
            "  Downloading nmslib-2.1.1.tar.gz (188 kB)\n",
            "\u001b[2K     \u001b[90m━━━━━━━━━━━━━━━━━━━━━━━━━━━━━━━━━━━━━━\u001b[0m \u001b[32m188.7/188.7 kB\u001b[0m \u001b[31m27.0 MB/s\u001b[0m eta \u001b[36m0:00:00\u001b[0m\n",
            "\u001b[?25h  Preparing metadata (setup.py) ... \u001b[?25l\u001b[?25hdone\n",
            "Requirement already satisfied: scikit-learn>=0.20.3 in /usr/local/lib/python3.10/dist-packages (from scispacy>=0.2.4->coordle==0.0.1) (1.2.2)\n",
            "Collecting pysbd (from scispacy>=0.2.4->coordle==0.0.1)\n",
            "  Downloading pysbd-0.3.4-py3-none-any.whl (71 kB)\n",
            "\u001b[2K     \u001b[90m━━━━━━━━━━━━━━━━━━━━━━━━━━━━━━━━━━━━━━━━\u001b[0m \u001b[32m71.1/71.1 kB\u001b[0m \u001b[31m11.1 MB/s\u001b[0m eta \u001b[36m0:00:00\u001b[0m\n",
            "\u001b[?25hRequirement already satisfied: pytest in /usr/local/lib/python3.10/dist-packages (from spacy-langdetect>=0.1.2->coordle==0.0.1) (7.2.2)\n",
            "Collecting langdetect==1.0.7 (from spacy-langdetect>=0.1.2->coordle==0.0.1)\n",
            "  Downloading langdetect-1.0.7.zip (998 kB)\n",
            "\u001b[2K     \u001b[90m━━━━━━━━━━━━━━━━━━━━━━━━━━━━━━━━━━━━━━\u001b[0m \u001b[32m998.1/998.1 kB\u001b[0m \u001b[31m77.0 MB/s\u001b[0m eta \u001b[36m0:00:00\u001b[0m\n",
            "\u001b[?25h  Preparing metadata (setup.py) ... \u001b[?25l\u001b[?25hdone\n",
            "Requirement already satisfied: six in /usr/local/lib/python3.10/dist-packages (from langdetect==1.0.7->spacy-langdetect>=0.1.2->coordle==0.0.1) (1.16.0)\n",
            "Collecting pybind11<2.6.2 (from nmslib>=1.7.3.6->scispacy>=0.2.4->coordle==0.0.1)\n",
            "  Using cached pybind11-2.6.1-py2.py3-none-any.whl (188 kB)\n",
            "Requirement already satisfied: psutil in /usr/local/lib/python3.10/dist-packages (from nmslib>=1.7.3.6->scispacy>=0.2.4->coordle==0.0.1) (5.9.5)\n",
            "Requirement already satisfied: urllib3<1.27,>=1.21.1 in /usr/local/lib/python3.10/dist-packages (from requests<3.0.0,>=2.0.0->scispacy>=0.2.4->coordle==0.0.1) (1.26.15)\n",
            "Requirement already satisfied: certifi>=2017.4.17 in /usr/local/lib/python3.10/dist-packages (from requests<3.0.0,>=2.0.0->scispacy>=0.2.4->coordle==0.0.1) (2022.12.7)\n",
            "Requirement already satisfied: charset-normalizer~=2.0.0 in /usr/local/lib/python3.10/dist-packages (from requests<3.0.0,>=2.0.0->scispacy>=0.2.4->coordle==0.0.1) (2.0.12)\n",
            "Requirement already satisfied: idna<4,>=2.5 in /usr/local/lib/python3.10/dist-packages (from requests<3.0.0,>=2.0.0->scispacy>=0.2.4->coordle==0.0.1) (3.4)\n",
            "Requirement already satisfied: threadpoolctl>=2.0.0 in /usr/local/lib/python3.10/dist-packages (from scikit-learn>=0.20.3->scispacy>=0.2.4->coordle==0.0.1) (3.1.0)\n",
            "Requirement already satisfied: spacy-legacy<3.1.0,>=3.0.10 in /usr/local/lib/python3.10/dist-packages (from spacy<3.5.0,>=3.4.0->scispacy>=0.2.4->coordle==0.0.1) (3.0.12)\n",
            "Requirement already satisfied: spacy-loggers<2.0.0,>=1.0.0 in /usr/local/lib/python3.10/dist-packages (from spacy<3.5.0,>=3.4.0->scispacy>=0.2.4->coordle==0.0.1) (1.0.4)\n",
            "Requirement already satisfied: murmurhash<1.1.0,>=0.28.0 in /usr/local/lib/python3.10/dist-packages (from spacy<3.5.0,>=3.4.0->scispacy>=0.2.4->coordle==0.0.1) (1.0.9)\n",
            "Requirement already satisfied: cymem<2.1.0,>=2.0.2 in /usr/local/lib/python3.10/dist-packages (from spacy<3.5.0,>=3.4.0->scispacy>=0.2.4->coordle==0.0.1) (2.0.7)\n",
            "Requirement already satisfied: preshed<3.1.0,>=3.0.2 in /usr/local/lib/python3.10/dist-packages (from spacy<3.5.0,>=3.4.0->scispacy>=0.2.4->coordle==0.0.1) (3.0.8)\n",
            "Requirement already satisfied: thinc<8.2.0,>=8.1.0 in /usr/local/lib/python3.10/dist-packages (from spacy<3.5.0,>=3.4.0->scispacy>=0.2.4->coordle==0.0.1) (8.1.9)\n",
            "Collecting wasabi<1.1.0,>=0.9.1 (from spacy<3.5.0,>=3.4.0->scispacy>=0.2.4->coordle==0.0.1)\n",
            "  Downloading wasabi-0.10.1-py3-none-any.whl (26 kB)\n",
            "Requirement already satisfied: srsly<3.0.0,>=2.4.3 in /usr/local/lib/python3.10/dist-packages (from spacy<3.5.0,>=3.4.0->scispacy>=0.2.4->coordle==0.0.1) (2.4.6)\n",
            "Requirement already satisfied: catalogue<2.1.0,>=2.0.6 in /usr/local/lib/python3.10/dist-packages (from spacy<3.5.0,>=3.4.0->scispacy>=0.2.4->coordle==0.0.1) (2.0.8)\n",
            "Requirement already satisfied: typer<0.8.0,>=0.3.0 in /usr/local/lib/python3.10/dist-packages (from spacy<3.5.0,>=3.4.0->scispacy>=0.2.4->coordle==0.0.1) (0.7.0)\n",
            "Requirement already satisfied: pathy>=0.3.5 in /usr/local/lib/python3.10/dist-packages (from spacy<3.5.0,>=3.4.0->scispacy>=0.2.4->coordle==0.0.1) (0.10.1)\n",
            "Requirement already satisfied: pydantic!=1.8,!=1.8.1,<1.11.0,>=1.7.4 in /usr/local/lib/python3.10/dist-packages (from spacy<3.5.0,>=3.4.0->scispacy>=0.2.4->coordle==0.0.1) (1.10.7)\n",
            "Requirement already satisfied: jinja2 in /usr/local/lib/python3.10/dist-packages (from spacy<3.5.0,>=3.4.0->scispacy>=0.2.4->coordle==0.0.1) (3.1.2)\n",
            "Requirement already satisfied: packaging>=20.0 in /usr/local/lib/python3.10/dist-packages (from spacy<3.5.0,>=3.4.0->scispacy>=0.2.4->coordle==0.0.1) (23.1)\n",
            "Requirement already satisfied: langcodes<4.0.0,>=3.2.0 in /usr/local/lib/python3.10/dist-packages (from spacy<3.5.0,>=3.4.0->scispacy>=0.2.4->coordle==0.0.1) (3.3.0)\n",
            "Requirement already satisfied: attrs>=19.2.0 in /usr/local/lib/python3.10/dist-packages (from pytest->spacy-langdetect>=0.1.2->coordle==0.0.1) (23.1.0)\n",
            "Requirement already satisfied: iniconfig in /usr/local/lib/python3.10/dist-packages (from pytest->spacy-langdetect>=0.1.2->coordle==0.0.1) (2.0.0)\n",
            "Requirement already satisfied: pluggy<2.0,>=0.12 in /usr/local/lib/python3.10/dist-packages (from pytest->spacy-langdetect>=0.1.2->coordle==0.0.1) (1.0.0)\n",
            "Requirement already satisfied: exceptiongroup>=1.0.0rc8 in /usr/local/lib/python3.10/dist-packages (from pytest->spacy-langdetect>=0.1.2->coordle==0.0.1) (1.1.1)\n",
            "Requirement already satisfied: tomli>=1.0.0 in /usr/local/lib/python3.10/dist-packages (from pytest->spacy-langdetect>=0.1.2->coordle==0.0.1) (2.0.1)\n",
            "Requirement already satisfied: typing-extensions>=4.2.0 in /usr/local/lib/python3.10/dist-packages (from pydantic!=1.8,!=1.8.1,<1.11.0,>=1.7.4->spacy<3.5.0,>=3.4.0->scispacy>=0.2.4->coordle==0.0.1) (4.5.0)\n",
            "Requirement already satisfied: blis<0.8.0,>=0.7.8 in /usr/local/lib/python3.10/dist-packages (from thinc<8.2.0,>=8.1.0->spacy<3.5.0,>=3.4.0->scispacy>=0.2.4->coordle==0.0.1) (0.7.9)\n",
            "Requirement already satisfied: confection<1.0.0,>=0.0.1 in /usr/local/lib/python3.10/dist-packages (from thinc<8.2.0,>=8.1.0->spacy<3.5.0,>=3.4.0->scispacy>=0.2.4->coordle==0.0.1) (0.0.4)\n",
            "Requirement already satisfied: MarkupSafe>=2.0 in /usr/local/lib/python3.10/dist-packages (from jinja2->spacy<3.5.0,>=3.4.0->scispacy>=0.2.4->coordle==0.0.1) (2.1.2)\n",
            "Building wheels for collected packages: coordle, langdetect, nmslib\n",
            "  Building wheel for coordle (setup.py) ... \u001b[?25l\u001b[?25hdone\n",
            "  Created wheel for coordle: filename=coordle-0.0.1-py3-none-any.whl size=13552 sha256=adc48176137a5fb4a5428139fb95eef53a9f8f92deec9c1ac410853e4c00d31b\n",
            "  Stored in directory: /tmp/pip-ephem-wheel-cache-1hnn0b0d/wheels/80/63/2a/20c17302d84a7ee64c15986b9fb011e4da303bb661012d0a49\n",
            "  Building wheel for langdetect (setup.py) ... \u001b[?25l\u001b[?25hdone\n",
            "  Created wheel for langdetect: filename=langdetect-1.0.7-py3-none-any.whl size=993416 sha256=5ad8c540b7cc937cfe7d5fe2ddf661a19359c3f25489e1424ccec6d457f227a8\n",
            "  Stored in directory: /root/.cache/pip/wheels/97/f1/e4/8b73f7a0421b132755956892d29b1e764d3e0857a6e92e32fe\n",
            "  Building wheel for nmslib (setup.py) ... \u001b[?25l\u001b[?25hdone\n",
            "  Created wheel for nmslib: filename=nmslib-2.1.1-cp310-cp310-linux_x86_64.whl size=13494560 sha256=1b3cb0806aa1b2e4ee14fa1f4f3d954b9f69058bf0e81141cdae3e7158c49870\n",
            "  Stored in directory: /root/.cache/pip/wheels/21/1a/5d/4cc754a5b1a88405cad184b76f823897a63a8d19afcd4b9314\n",
            "Successfully built coordle langdetect nmslib\n",
            "Installing collected packages: wasabi, pysbd, pybind11, langdetect, conllu, spacy-langdetect, nmslib, spacy, scispacy, coordle\n",
            "  Attempting uninstall: wasabi\n",
            "    Found existing installation: wasabi 1.1.1\n",
            "    Uninstalling wasabi-1.1.1:\n",
            "      Successfully uninstalled wasabi-1.1.1\n",
            "  Attempting uninstall: spacy\n",
            "    Found existing installation: spacy 3.5.2\n",
            "    Uninstalling spacy-3.5.2:\n",
            "      Successfully uninstalled spacy-3.5.2\n",
            "\u001b[31mERROR: pip's dependency resolver does not currently take into account all the packages that are installed. This behaviour is the source of the following dependency conflicts.\n",
            "en-core-web-sm 3.5.0 requires spacy<3.6.0,>=3.5.0, but you have spacy 3.4.4 which is incompatible.\u001b[0m\u001b[31m\n",
            "\u001b[0mSuccessfully installed conllu-4.5.2 coordle-0.0.1 langdetect-1.0.7 nmslib-2.1.1 pybind11-2.6.1 pysbd-0.3.4 scispacy-0.5.2 spacy-3.4.4 spacy-langdetect-0.1.2 wasabi-0.10.1\n"
          ]
        }
      ],
      "source": [
        "!pip install -U https://s3-us-west-2.amazonaws.com/ai2-s2-scispacy/releases/v0.2.4/en_core_sci_lg-0.2.4.tar.gz\n",
        "!pip install -U git+https://github.com/JonasTriki/inf368-exercise-3-coordle.git"
      ]
    },
    {
      "cell_type": "code",
      "execution_count": 19,
      "metadata": {
        "id": "vZ3iAm_l9DRu"
      },
      "outputs": [],
      "source": [
        "import numpy as np\n",
        "import pandas as pd\n",
        "import os\n",
        "import json\n",
        "import time\n",
        "import glob\n",
        "import re\n",
        "import sys\n",
        "import collections\n",
        "import pandas as pd\n",
        "pd.options.display.max_colwidth = 10000\n",
        "import torch\n",
        "import torch.nn as nn\n",
        "import numpy as np\n",
        "import time\n",
        "from torch.utils.data import DataLoader\n",
        "# from coordle.utils import clean_text\n",
        "# from coordle.backend import QueryAppenderIndex"
      ]
    },
    {
      "cell_type": "code",
      "execution_count": 20,
      "metadata": {
        "id": "MQsRjmp6xLgM"
      },
      "outputs": [],
      "source": [
        "dir_path='/content/drive/MyDrive/NLP/Information Retreival'"
      ]
    },
    {
      "cell_type": "code",
      "execution_count": 21,
      "metadata": {
        "id": "lLjEgEhNF4x7"
      },
      "outputs": [],
      "source": [
        "# Load the trained Gensim model\n",
        "\n",
        "model_path = os.path.join(dir_path, 'gensim-word2vec-model', 'cord-19-w2v.model_ver_2')"
      ]
    },
    {
      "cell_type": "code",
      "execution_count": 22,
      "metadata": {
        "colab": {
          "base_uri": "https://localhost:8080/",
          "height": 555
        },
        "id": "oygnW7ID9LqH",
        "outputId": "cb04489b-bc7b-475b-93c1-1fdccd15f911"
      },
      "outputs": [
        {
          "output_type": "execute_result",
          "data": {
            "text/plain": [
              "                                                                                                                                                                     title  \\\n",
              "0  Real-World Experience with COVID-19  Including Direct COVID-19 Antigen Testing and Monoclonal-Antibody Bamlanivimab in a Rural Critical Access Hospital in South Dakota   \n",
              "1                                                     Successful outcome of pre-engraftment COVID-19 in an HCT patient  impact of targeted therapies and cellular immunity   \n",
              "\n",
              "                                                                                                                                                                                                                                                                                                                                                                                                                                                                                                                                                                                                                                                                                                                                                                                                                                                                                                                                                                                                                                                                                                                                                                                                                                                                                                                                                                                                                                                                                                                                                                                                                                                                                             abstract  \\\n",
              "0  This article summarizes the experiences of COVID-19 patients diagnosed and treated at Faulkton Area Medical Center  FAMC   a rural critical access facility in South Dakota  during three periods of COVID-19  Retrospective chart review was used to classify COVID-19 patients into three groups by time frame  1 Early March 2020  with the arrival of COVID-19 to South Dakota  until August 31  2020  2 September 1  2020  with the use of rapid result direct COVID-19 virus antigen testing  through November 24 2020  which took place during our COVID-19 surge   and 3 November 25  2020  the start of bamlanivimab infusions on high-risk patients with COVID-19  throughFebruary15  2021  the cutoff for this review  Faulk County had higher COVID-19 case rates and COVID-19 death rates than South Dakota in general  Final review of the data showed stable overall hospitalization rates at FAMC in each of these time periods  Data was broken down by age and not other demographics due to small patient population size and limited ability to blind data  Breakdown of the data showed the hospitalization rates in the 60-90  age groups did decrease from 33 3 percent to 22 2 percent  following bamlanivimab use  Absolute risk reduction 11 1 percent  Relative risk reduction of hospitalization from November 25  2020 through February 15  2021 compared to September 1  2020 through November 25  2020 was 0 33   odds ratio   0 57   CI  95 percent  0 21-1 58   This is not statistically significant  NNT 9  Data is limited by small overall numbers of patients and lack of data in Faulkton area residents who sought medical care outside the local facility   \n",
              "1                                                                                                                                         Coronavirus disease 2019  COVID-19   caused by severe acute respiratory syndrome coronavirus 2  SARS-CoV-2  infection has emerged as a global pandemic that upended existing protocols and practices  including those for allogeneic hematopoietic stem cell transplantation  HCT   Here we describe the successful clinical course and multiple key interventions administered to an acute lymphoblastic leukemia patient  who tested SARS-CoV-2 positive by RT-PCR on day -1 of matched unrelated donor  SARS-CoV-2 IgG negative  T-cell-replete HCT  This experience allowed for implementing a virologic and immunomonitoring panel to characterize the impact of SARS-CoV-2 on the recipient s nascent humoral and cellular immune response  The finding of robust  functional  and persistent levels of SARS-CoV-2 specific T-cells  starting early after transplant was unexpected  and in combination with the clinical strategy may have contributed to the favorable outcome  Additionally  it is plausible that pre-existing cross-reactive endemic coronavirus immunity in the allogeneic graft reduced recipient susceptibility to COVID-19 disease  This case supports the critical role that T-cell responses may play in mitigating SARS-CoV-2 infection  even in the context of transplant immunosuppression  in which reconstitution of humoral response is commonly delayed  Interventional approaches to transfer SARS-CoV-2-specific cellular immunity such as HCT donor vaccination and adaptive cellular therapy could be of benefit   \n",
              "\n",
              "                                        url  \n",
              "0  https://pubmed.ncbi.nlm.nih.gov/35008137  \n",
              "1  https://pubmed.ncbi.nlm.nih.gov/35008104  "
            ],
            "text/html": [
              "\n",
              "  <div id=\"df-be61428d-8a22-4b97-8f7f-9dabe6340c80\">\n",
              "    <div class=\"colab-df-container\">\n",
              "      <div>\n",
              "<style scoped>\n",
              "    .dataframe tbody tr th:only-of-type {\n",
              "        vertical-align: middle;\n",
              "    }\n",
              "\n",
              "    .dataframe tbody tr th {\n",
              "        vertical-align: top;\n",
              "    }\n",
              "\n",
              "    .dataframe thead th {\n",
              "        text-align: right;\n",
              "    }\n",
              "</style>\n",
              "<table border=\"1\" class=\"dataframe\">\n",
              "  <thead>\n",
              "    <tr style=\"text-align: right;\">\n",
              "      <th></th>\n",
              "      <th>title</th>\n",
              "      <th>abstract</th>\n",
              "      <th>url</th>\n",
              "    </tr>\n",
              "  </thead>\n",
              "  <tbody>\n",
              "    <tr>\n",
              "      <th>0</th>\n",
              "      <td>Real-World Experience with COVID-19  Including Direct COVID-19 Antigen Testing and Monoclonal-Antibody Bamlanivimab in a Rural Critical Access Hospital in South Dakota</td>\n",
              "      <td>This article summarizes the experiences of COVID-19 patients diagnosed and treated at Faulkton Area Medical Center  FAMC   a rural critical access facility in South Dakota  during three periods of COVID-19  Retrospective chart review was used to classify COVID-19 patients into three groups by time frame  1 Early March 2020  with the arrival of COVID-19 to South Dakota  until August 31  2020  2 September 1  2020  with the use of rapid result direct COVID-19 virus antigen testing  through November 24 2020  which took place during our COVID-19 surge   and 3 November 25  2020  the start of bamlanivimab infusions on high-risk patients with COVID-19  throughFebruary15  2021  the cutoff for this review  Faulk County had higher COVID-19 case rates and COVID-19 death rates than South Dakota in general  Final review of the data showed stable overall hospitalization rates at FAMC in each of these time periods  Data was broken down by age and not other demographics due to small patient population size and limited ability to blind data  Breakdown of the data showed the hospitalization rates in the 60-90  age groups did decrease from 33 3 percent to 22 2 percent  following bamlanivimab use  Absolute risk reduction 11 1 percent  Relative risk reduction of hospitalization from November 25  2020 through February 15  2021 compared to September 1  2020 through November 25  2020 was 0 33   odds ratio   0 57   CI  95 percent  0 21-1 58   This is not statistically significant  NNT 9  Data is limited by small overall numbers of patients and lack of data in Faulkton area residents who sought medical care outside the local facility</td>\n",
              "      <td>https://pubmed.ncbi.nlm.nih.gov/35008137</td>\n",
              "    </tr>\n",
              "    <tr>\n",
              "      <th>1</th>\n",
              "      <td>Successful outcome of pre-engraftment COVID-19 in an HCT patient  impact of targeted therapies and cellular immunity</td>\n",
              "      <td>Coronavirus disease 2019  COVID-19   caused by severe acute respiratory syndrome coronavirus 2  SARS-CoV-2  infection has emerged as a global pandemic that upended existing protocols and practices  including those for allogeneic hematopoietic stem cell transplantation  HCT   Here we describe the successful clinical course and multiple key interventions administered to an acute lymphoblastic leukemia patient  who tested SARS-CoV-2 positive by RT-PCR on day -1 of matched unrelated donor  SARS-CoV-2 IgG negative  T-cell-replete HCT  This experience allowed for implementing a virologic and immunomonitoring panel to characterize the impact of SARS-CoV-2 on the recipient s nascent humoral and cellular immune response  The finding of robust  functional  and persistent levels of SARS-CoV-2 specific T-cells  starting early after transplant was unexpected  and in combination with the clinical strategy may have contributed to the favorable outcome  Additionally  it is plausible that pre-existing cross-reactive endemic coronavirus immunity in the allogeneic graft reduced recipient susceptibility to COVID-19 disease  This case supports the critical role that T-cell responses may play in mitigating SARS-CoV-2 infection  even in the context of transplant immunosuppression  in which reconstitution of humoral response is commonly delayed  Interventional approaches to transfer SARS-CoV-2-specific cellular immunity such as HCT donor vaccination and adaptive cellular therapy could be of benefit</td>\n",
              "      <td>https://pubmed.ncbi.nlm.nih.gov/35008104</td>\n",
              "    </tr>\n",
              "  </tbody>\n",
              "</table>\n",
              "</div>\n",
              "      <button class=\"colab-df-convert\" onclick=\"convertToInteractive('df-be61428d-8a22-4b97-8f7f-9dabe6340c80')\"\n",
              "              title=\"Convert this dataframe to an interactive table.\"\n",
              "              style=\"display:none;\">\n",
              "        \n",
              "  <svg xmlns=\"http://www.w3.org/2000/svg\" height=\"24px\"viewBox=\"0 0 24 24\"\n",
              "       width=\"24px\">\n",
              "    <path d=\"M0 0h24v24H0V0z\" fill=\"none\"/>\n",
              "    <path d=\"M18.56 5.44l.94 2.06.94-2.06 2.06-.94-2.06-.94-.94-2.06-.94 2.06-2.06.94zm-11 1L8.5 8.5l.94-2.06 2.06-.94-2.06-.94L8.5 2.5l-.94 2.06-2.06.94zm10 10l.94 2.06.94-2.06 2.06-.94-2.06-.94-.94-2.06-.94 2.06-2.06.94z\"/><path d=\"M17.41 7.96l-1.37-1.37c-.4-.4-.92-.59-1.43-.59-.52 0-1.04.2-1.43.59L10.3 9.45l-7.72 7.72c-.78.78-.78 2.05 0 2.83L4 21.41c.39.39.9.59 1.41.59.51 0 1.02-.2 1.41-.59l7.78-7.78 2.81-2.81c.8-.78.8-2.07 0-2.86zM5.41 20L4 18.59l7.72-7.72 1.47 1.35L5.41 20z\"/>\n",
              "  </svg>\n",
              "      </button>\n",
              "      \n",
              "  <style>\n",
              "    .colab-df-container {\n",
              "      display:flex;\n",
              "      flex-wrap:wrap;\n",
              "      gap: 12px;\n",
              "    }\n",
              "\n",
              "    .colab-df-convert {\n",
              "      background-color: #E8F0FE;\n",
              "      border: none;\n",
              "      border-radius: 50%;\n",
              "      cursor: pointer;\n",
              "      display: none;\n",
              "      fill: #1967D2;\n",
              "      height: 32px;\n",
              "      padding: 0 0 0 0;\n",
              "      width: 32px;\n",
              "    }\n",
              "\n",
              "    .colab-df-convert:hover {\n",
              "      background-color: #E2EBFA;\n",
              "      box-shadow: 0px 1px 2px rgba(60, 64, 67, 0.3), 0px 1px 3px 1px rgba(60, 64, 67, 0.15);\n",
              "      fill: #174EA6;\n",
              "    }\n",
              "\n",
              "    [theme=dark] .colab-df-convert {\n",
              "      background-color: #3B4455;\n",
              "      fill: #D2E3FC;\n",
              "    }\n",
              "\n",
              "    [theme=dark] .colab-df-convert:hover {\n",
              "      background-color: #434B5C;\n",
              "      box-shadow: 0px 1px 3px 1px rgba(0, 0, 0, 0.15);\n",
              "      filter: drop-shadow(0px 1px 2px rgba(0, 0, 0, 0.3));\n",
              "      fill: #FFFFFF;\n",
              "    }\n",
              "  </style>\n",
              "\n",
              "      <script>\n",
              "        const buttonEl =\n",
              "          document.querySelector('#df-be61428d-8a22-4b97-8f7f-9dabe6340c80 button.colab-df-convert');\n",
              "        buttonEl.style.display =\n",
              "          google.colab.kernel.accessAllowed ? 'block' : 'none';\n",
              "\n",
              "        async function convertToInteractive(key) {\n",
              "          const element = document.querySelector('#df-be61428d-8a22-4b97-8f7f-9dabe6340c80');\n",
              "          const dataTable =\n",
              "            await google.colab.kernel.invokeFunction('convertToInteractive',\n",
              "                                                     [key], {});\n",
              "          if (!dataTable) return;\n",
              "\n",
              "          const docLinkHtml = 'Like what you see? Visit the ' +\n",
              "            '<a target=\"_blank\" href=https://colab.research.google.com/notebooks/data_table.ipynb>data table notebook</a>'\n",
              "            + ' to learn more about interactive tables.';\n",
              "          element.innerHTML = '';\n",
              "          dataTable['output_type'] = 'display_data';\n",
              "          await google.colab.output.renderOutput(dataTable, element);\n",
              "          const docLink = document.createElement('div');\n",
              "          docLink.innerHTML = docLinkHtml;\n",
              "          element.appendChild(docLink);\n",
              "        }\n",
              "      </script>\n",
              "    </div>\n",
              "  </div>\n",
              "  "
            ]
          },
          "metadata": {},
          "execution_count": 22
        }
      ],
      "source": [
        "df = pd.read_csv(dir_path+'/covid_abstracts.csv')\n",
        "df.head(2)"
      ]
    },
    {
      "cell_type": "markdown",
      "metadata": {
        "id": "jZexI9MtGXWl"
      },
      "source": [
        "## Combining the Title and abstract "
      ]
    },
    {
      "cell_type": "code",
      "execution_count": 23,
      "metadata": {
        "colab": {
          "base_uri": "https://localhost:8080/",
          "height": 1000
        },
        "id": "LsFogfv3GS1Y",
        "outputId": "780d79cf-2361-441f-eedd-25cefef5a317"
      },
      "outputs": [
        {
          "output_type": "execute_result",
          "data": {
            "text/plain": [
              "                                                                                                                                                                     title  \\\n",
              "0  Real-World Experience with COVID-19  Including Direct COVID-19 Antigen Testing and Monoclonal-Antibody Bamlanivimab in a Rural Critical Access Hospital in South Dakota   \n",
              "1                                                     Successful outcome of pre-engraftment COVID-19 in an HCT patient  impact of targeted therapies and cellular immunity   \n",
              "\n",
              "                                                                                                                                                                                                                                                                                                                                                                                                                                                                                                                                                                                                                                                                                                                                                                                                                                                                                                                                                                                                                                                                                                                                                                                                                                                                                                                                                                                                                                                                                                                                                                                                                                                                                             abstract  \\\n",
              "0  This article summarizes the experiences of COVID-19 patients diagnosed and treated at Faulkton Area Medical Center  FAMC   a rural critical access facility in South Dakota  during three periods of COVID-19  Retrospective chart review was used to classify COVID-19 patients into three groups by time frame  1 Early March 2020  with the arrival of COVID-19 to South Dakota  until August 31  2020  2 September 1  2020  with the use of rapid result direct COVID-19 virus antigen testing  through November 24 2020  which took place during our COVID-19 surge   and 3 November 25  2020  the start of bamlanivimab infusions on high-risk patients with COVID-19  throughFebruary15  2021  the cutoff for this review  Faulk County had higher COVID-19 case rates and COVID-19 death rates than South Dakota in general  Final review of the data showed stable overall hospitalization rates at FAMC in each of these time periods  Data was broken down by age and not other demographics due to small patient population size and limited ability to blind data  Breakdown of the data showed the hospitalization rates in the 60-90  age groups did decrease from 33 3 percent to 22 2 percent  following bamlanivimab use  Absolute risk reduction 11 1 percent  Relative risk reduction of hospitalization from November 25  2020 through February 15  2021 compared to September 1  2020 through November 25  2020 was 0 33   odds ratio   0 57   CI  95 percent  0 21-1 58   This is not statistically significant  NNT 9  Data is limited by small overall numbers of patients and lack of data in Faulkton area residents who sought medical care outside the local facility   \n",
              "1                                                                                                                                         Coronavirus disease 2019  COVID-19   caused by severe acute respiratory syndrome coronavirus 2  SARS-CoV-2  infection has emerged as a global pandemic that upended existing protocols and practices  including those for allogeneic hematopoietic stem cell transplantation  HCT   Here we describe the successful clinical course and multiple key interventions administered to an acute lymphoblastic leukemia patient  who tested SARS-CoV-2 positive by RT-PCR on day -1 of matched unrelated donor  SARS-CoV-2 IgG negative  T-cell-replete HCT  This experience allowed for implementing a virologic and immunomonitoring panel to characterize the impact of SARS-CoV-2 on the recipient s nascent humoral and cellular immune response  The finding of robust  functional  and persistent levels of SARS-CoV-2 specific T-cells  starting early after transplant was unexpected  and in combination with the clinical strategy may have contributed to the favorable outcome  Additionally  it is plausible that pre-existing cross-reactive endemic coronavirus immunity in the allogeneic graft reduced recipient susceptibility to COVID-19 disease  This case supports the critical role that T-cell responses may play in mitigating SARS-CoV-2 infection  even in the context of transplant immunosuppression  in which reconstitution of humoral response is commonly delayed  Interventional approaches to transfer SARS-CoV-2-specific cellular immunity such as HCT donor vaccination and adaptive cellular therapy could be of benefit   \n",
              "\n",
              "                                        url  \\\n",
              "0  https://pubmed.ncbi.nlm.nih.gov/35008137   \n",
              "1  https://pubmed.ncbi.nlm.nih.gov/35008104   \n",
              "\n",
              "                                                                                                                                                                                                                                                                                                                                                                                                                                                                                                                                                                                                                                                                                                                                                                                                                                                                                                                                                                                                                                                                                                                                                                                                                                                                                                                                                                                                                                                                                                                                                                                                                                                                                                                                                                                                                                                                          text  \n",
              "0  Real-World Experience with COVID-19  Including Direct COVID-19 Antigen Testing and Monoclonal-Antibody Bamlanivimab in a Rural Critical Access Hospital in South Dakota. This article summarizes the experiences of COVID-19 patients diagnosed and treated at Faulkton Area Medical Center  FAMC   a rural critical access facility in South Dakota  during three periods of COVID-19  Retrospective chart review was used to classify COVID-19 patients into three groups by time frame  1 Early March 2020  with the arrival of COVID-19 to South Dakota  until August 31  2020  2 September 1  2020  with the use of rapid result direct COVID-19 virus antigen testing  through November 24 2020  which took place during our COVID-19 surge   and 3 November 25  2020  the start of bamlanivimab infusions on high-risk patients with COVID-19  throughFebruary15  2021  the cutoff for this review  Faulk County had higher COVID-19 case rates and COVID-19 death rates than South Dakota in general  Final review of the data showed stable overall hospitalization rates at FAMC in each of these time periods  Data was broken down by age and not other demographics due to small patient population size and limited ability to blind data  Breakdown of the data showed the hospitalization rates in the 60-90  age groups did decrease from 33 3 percent to 22 2 percent  following bamlanivimab use  Absolute risk reduction 11 1 percent  Relative risk reduction of hospitalization from November 25  2020 through February 15  2021 compared to September 1  2020 through November 25  2020 was 0 33   odds ratio   0 57   CI  95 percent  0 21-1 58   This is not statistically significant  NNT 9  Data is limited by small overall numbers of patients and lack of data in Faulkton area residents who sought medical care outside the local facility  \n",
              "1                                                                                                                                                                                            Successful outcome of pre-engraftment COVID-19 in an HCT patient  impact of targeted therapies and cellular immunity. Coronavirus disease 2019  COVID-19   caused by severe acute respiratory syndrome coronavirus 2  SARS-CoV-2  infection has emerged as a global pandemic that upended existing protocols and practices  including those for allogeneic hematopoietic stem cell transplantation  HCT   Here we describe the successful clinical course and multiple key interventions administered to an acute lymphoblastic leukemia patient  who tested SARS-CoV-2 positive by RT-PCR on day -1 of matched unrelated donor  SARS-CoV-2 IgG negative  T-cell-replete HCT  This experience allowed for implementing a virologic and immunomonitoring panel to characterize the impact of SARS-CoV-2 on the recipient s nascent humoral and cellular immune response  The finding of robust  functional  and persistent levels of SARS-CoV-2 specific T-cells  starting early after transplant was unexpected  and in combination with the clinical strategy may have contributed to the favorable outcome  Additionally  it is plausible that pre-existing cross-reactive endemic coronavirus immunity in the allogeneic graft reduced recipient susceptibility to COVID-19 disease  This case supports the critical role that T-cell responses may play in mitigating SARS-CoV-2 infection  even in the context of transplant immunosuppression  in which reconstitution of humoral response is commonly delayed  Interventional approaches to transfer SARS-CoV-2-specific cellular immunity such as HCT donor vaccination and adaptive cellular therapy could be of benefit  "
            ],
            "text/html": [
              "\n",
              "  <div id=\"df-cc5272a2-85c3-441b-bd7e-3ebc221b3512\">\n",
              "    <div class=\"colab-df-container\">\n",
              "      <div>\n",
              "<style scoped>\n",
              "    .dataframe tbody tr th:only-of-type {\n",
              "        vertical-align: middle;\n",
              "    }\n",
              "\n",
              "    .dataframe tbody tr th {\n",
              "        vertical-align: top;\n",
              "    }\n",
              "\n",
              "    .dataframe thead th {\n",
              "        text-align: right;\n",
              "    }\n",
              "</style>\n",
              "<table border=\"1\" class=\"dataframe\">\n",
              "  <thead>\n",
              "    <tr style=\"text-align: right;\">\n",
              "      <th></th>\n",
              "      <th>title</th>\n",
              "      <th>abstract</th>\n",
              "      <th>url</th>\n",
              "      <th>text</th>\n",
              "    </tr>\n",
              "  </thead>\n",
              "  <tbody>\n",
              "    <tr>\n",
              "      <th>0</th>\n",
              "      <td>Real-World Experience with COVID-19  Including Direct COVID-19 Antigen Testing and Monoclonal-Antibody Bamlanivimab in a Rural Critical Access Hospital in South Dakota</td>\n",
              "      <td>This article summarizes the experiences of COVID-19 patients diagnosed and treated at Faulkton Area Medical Center  FAMC   a rural critical access facility in South Dakota  during three periods of COVID-19  Retrospective chart review was used to classify COVID-19 patients into three groups by time frame  1 Early March 2020  with the arrival of COVID-19 to South Dakota  until August 31  2020  2 September 1  2020  with the use of rapid result direct COVID-19 virus antigen testing  through November 24 2020  which took place during our COVID-19 surge   and 3 November 25  2020  the start of bamlanivimab infusions on high-risk patients with COVID-19  throughFebruary15  2021  the cutoff for this review  Faulk County had higher COVID-19 case rates and COVID-19 death rates than South Dakota in general  Final review of the data showed stable overall hospitalization rates at FAMC in each of these time periods  Data was broken down by age and not other demographics due to small patient population size and limited ability to blind data  Breakdown of the data showed the hospitalization rates in the 60-90  age groups did decrease from 33 3 percent to 22 2 percent  following bamlanivimab use  Absolute risk reduction 11 1 percent  Relative risk reduction of hospitalization from November 25  2020 through February 15  2021 compared to September 1  2020 through November 25  2020 was 0 33   odds ratio   0 57   CI  95 percent  0 21-1 58   This is not statistically significant  NNT 9  Data is limited by small overall numbers of patients and lack of data in Faulkton area residents who sought medical care outside the local facility</td>\n",
              "      <td>https://pubmed.ncbi.nlm.nih.gov/35008137</td>\n",
              "      <td>Real-World Experience with COVID-19  Including Direct COVID-19 Antigen Testing and Monoclonal-Antibody Bamlanivimab in a Rural Critical Access Hospital in South Dakota. This article summarizes the experiences of COVID-19 patients diagnosed and treated at Faulkton Area Medical Center  FAMC   a rural critical access facility in South Dakota  during three periods of COVID-19  Retrospective chart review was used to classify COVID-19 patients into three groups by time frame  1 Early March 2020  with the arrival of COVID-19 to South Dakota  until August 31  2020  2 September 1  2020  with the use of rapid result direct COVID-19 virus antigen testing  through November 24 2020  which took place during our COVID-19 surge   and 3 November 25  2020  the start of bamlanivimab infusions on high-risk patients with COVID-19  throughFebruary15  2021  the cutoff for this review  Faulk County had higher COVID-19 case rates and COVID-19 death rates than South Dakota in general  Final review of the data showed stable overall hospitalization rates at FAMC in each of these time periods  Data was broken down by age and not other demographics due to small patient population size and limited ability to blind data  Breakdown of the data showed the hospitalization rates in the 60-90  age groups did decrease from 33 3 percent to 22 2 percent  following bamlanivimab use  Absolute risk reduction 11 1 percent  Relative risk reduction of hospitalization from November 25  2020 through February 15  2021 compared to September 1  2020 through November 25  2020 was 0 33   odds ratio   0 57   CI  95 percent  0 21-1 58   This is not statistically significant  NNT 9  Data is limited by small overall numbers of patients and lack of data in Faulkton area residents who sought medical care outside the local facility</td>\n",
              "    </tr>\n",
              "    <tr>\n",
              "      <th>1</th>\n",
              "      <td>Successful outcome of pre-engraftment COVID-19 in an HCT patient  impact of targeted therapies and cellular immunity</td>\n",
              "      <td>Coronavirus disease 2019  COVID-19   caused by severe acute respiratory syndrome coronavirus 2  SARS-CoV-2  infection has emerged as a global pandemic that upended existing protocols and practices  including those for allogeneic hematopoietic stem cell transplantation  HCT   Here we describe the successful clinical course and multiple key interventions administered to an acute lymphoblastic leukemia patient  who tested SARS-CoV-2 positive by RT-PCR on day -1 of matched unrelated donor  SARS-CoV-2 IgG negative  T-cell-replete HCT  This experience allowed for implementing a virologic and immunomonitoring panel to characterize the impact of SARS-CoV-2 on the recipient s nascent humoral and cellular immune response  The finding of robust  functional  and persistent levels of SARS-CoV-2 specific T-cells  starting early after transplant was unexpected  and in combination with the clinical strategy may have contributed to the favorable outcome  Additionally  it is plausible that pre-existing cross-reactive endemic coronavirus immunity in the allogeneic graft reduced recipient susceptibility to COVID-19 disease  This case supports the critical role that T-cell responses may play in mitigating SARS-CoV-2 infection  even in the context of transplant immunosuppression  in which reconstitution of humoral response is commonly delayed  Interventional approaches to transfer SARS-CoV-2-specific cellular immunity such as HCT donor vaccination and adaptive cellular therapy could be of benefit</td>\n",
              "      <td>https://pubmed.ncbi.nlm.nih.gov/35008104</td>\n",
              "      <td>Successful outcome of pre-engraftment COVID-19 in an HCT patient  impact of targeted therapies and cellular immunity. Coronavirus disease 2019  COVID-19   caused by severe acute respiratory syndrome coronavirus 2  SARS-CoV-2  infection has emerged as a global pandemic that upended existing protocols and practices  including those for allogeneic hematopoietic stem cell transplantation  HCT   Here we describe the successful clinical course and multiple key interventions administered to an acute lymphoblastic leukemia patient  who tested SARS-CoV-2 positive by RT-PCR on day -1 of matched unrelated donor  SARS-CoV-2 IgG negative  T-cell-replete HCT  This experience allowed for implementing a virologic and immunomonitoring panel to characterize the impact of SARS-CoV-2 on the recipient s nascent humoral and cellular immune response  The finding of robust  functional  and persistent levels of SARS-CoV-2 specific T-cells  starting early after transplant was unexpected  and in combination with the clinical strategy may have contributed to the favorable outcome  Additionally  it is plausible that pre-existing cross-reactive endemic coronavirus immunity in the allogeneic graft reduced recipient susceptibility to COVID-19 disease  This case supports the critical role that T-cell responses may play in mitigating SARS-CoV-2 infection  even in the context of transplant immunosuppression  in which reconstitution of humoral response is commonly delayed  Interventional approaches to transfer SARS-CoV-2-specific cellular immunity such as HCT donor vaccination and adaptive cellular therapy could be of benefit</td>\n",
              "    </tr>\n",
              "  </tbody>\n",
              "</table>\n",
              "</div>\n",
              "      <button class=\"colab-df-convert\" onclick=\"convertToInteractive('df-cc5272a2-85c3-441b-bd7e-3ebc221b3512')\"\n",
              "              title=\"Convert this dataframe to an interactive table.\"\n",
              "              style=\"display:none;\">\n",
              "        \n",
              "  <svg xmlns=\"http://www.w3.org/2000/svg\" height=\"24px\"viewBox=\"0 0 24 24\"\n",
              "       width=\"24px\">\n",
              "    <path d=\"M0 0h24v24H0V0z\" fill=\"none\"/>\n",
              "    <path d=\"M18.56 5.44l.94 2.06.94-2.06 2.06-.94-2.06-.94-.94-2.06-.94 2.06-2.06.94zm-11 1L8.5 8.5l.94-2.06 2.06-.94-2.06-.94L8.5 2.5l-.94 2.06-2.06.94zm10 10l.94 2.06.94-2.06 2.06-.94-2.06-.94-.94-2.06-.94 2.06-2.06.94z\"/><path d=\"M17.41 7.96l-1.37-1.37c-.4-.4-.92-.59-1.43-.59-.52 0-1.04.2-1.43.59L10.3 9.45l-7.72 7.72c-.78.78-.78 2.05 0 2.83L4 21.41c.39.39.9.59 1.41.59.51 0 1.02-.2 1.41-.59l7.78-7.78 2.81-2.81c.8-.78.8-2.07 0-2.86zM5.41 20L4 18.59l7.72-7.72 1.47 1.35L5.41 20z\"/>\n",
              "  </svg>\n",
              "      </button>\n",
              "      \n",
              "  <style>\n",
              "    .colab-df-container {\n",
              "      display:flex;\n",
              "      flex-wrap:wrap;\n",
              "      gap: 12px;\n",
              "    }\n",
              "\n",
              "    .colab-df-convert {\n",
              "      background-color: #E8F0FE;\n",
              "      border: none;\n",
              "      border-radius: 50%;\n",
              "      cursor: pointer;\n",
              "      display: none;\n",
              "      fill: #1967D2;\n",
              "      height: 32px;\n",
              "      padding: 0 0 0 0;\n",
              "      width: 32px;\n",
              "    }\n",
              "\n",
              "    .colab-df-convert:hover {\n",
              "      background-color: #E2EBFA;\n",
              "      box-shadow: 0px 1px 2px rgba(60, 64, 67, 0.3), 0px 1px 3px 1px rgba(60, 64, 67, 0.15);\n",
              "      fill: #174EA6;\n",
              "    }\n",
              "\n",
              "    [theme=dark] .colab-df-convert {\n",
              "      background-color: #3B4455;\n",
              "      fill: #D2E3FC;\n",
              "    }\n",
              "\n",
              "    [theme=dark] .colab-df-convert:hover {\n",
              "      background-color: #434B5C;\n",
              "      box-shadow: 0px 1px 3px 1px rgba(0, 0, 0, 0.15);\n",
              "      filter: drop-shadow(0px 1px 2px rgba(0, 0, 0, 0.3));\n",
              "      fill: #FFFFFF;\n",
              "    }\n",
              "  </style>\n",
              "\n",
              "      <script>\n",
              "        const buttonEl =\n",
              "          document.querySelector('#df-cc5272a2-85c3-441b-bd7e-3ebc221b3512 button.colab-df-convert');\n",
              "        buttonEl.style.display =\n",
              "          google.colab.kernel.accessAllowed ? 'block' : 'none';\n",
              "\n",
              "        async function convertToInteractive(key) {\n",
              "          const element = document.querySelector('#df-cc5272a2-85c3-441b-bd7e-3ebc221b3512');\n",
              "          const dataTable =\n",
              "            await google.colab.kernel.invokeFunction('convertToInteractive',\n",
              "                                                     [key], {});\n",
              "          if (!dataTable) return;\n",
              "\n",
              "          const docLinkHtml = 'Like what you see? Visit the ' +\n",
              "            '<a target=\"_blank\" href=https://colab.research.google.com/notebooks/data_table.ipynb>data table notebook</a>'\n",
              "            + ' to learn more about interactive tables.';\n",
              "          element.innerHTML = '';\n",
              "          dataTable['output_type'] = 'display_data';\n",
              "          await google.colab.output.renderOutput(dataTable, element);\n",
              "          const docLink = document.createElement('div');\n",
              "          docLink.innerHTML = docLinkHtml;\n",
              "          element.appendChild(docLink);\n",
              "        }\n",
              "      </script>\n",
              "    </div>\n",
              "  </div>\n",
              "  "
            ]
          },
          "metadata": {},
          "execution_count": 23
        }
      ],
      "source": [
        "df['text']=df['title']+'. '+df['abstract']\n",
        "df.head(2)"
      ]
    },
    {
      "cell_type": "markdown",
      "metadata": {
        "id": "wQfoe6v5-3BQ"
      },
      "source": [
        "### Creating  class"
      ]
    },
    {
      "cell_type": "code",
      "execution_count": 24,
      "metadata": {
        "id": "XdlFiwOYCI2d"
      },
      "outputs": [],
      "source": [
        "# Extract English only texts\n",
        "eng_texts = df['text'].values"
      ]
    },
    {
      "cell_type": "code",
      "execution_count": null,
      "metadata": {
        "id": "nTIr51hBLdMY"
      },
      "outputs": [],
      "source": [
        "# Implement the data interator for Word2Vec\n",
        "class CORDDataIteratorWord2Vec():\n",
        "    def __init__(self, texts: np.ndarray):\n",
        "        self.texts = texts\n",
        "    \n",
        "    def __iter__(self):\n",
        "        for text in self.texts:\n",
        "            sentences = nltk.tokenize.sent_tokenize(text)\n",
        "            cleaned_sentences = [clean_text(sent) for sent in sentences]\n",
        "            for sentence in cleaned_sentences:\n",
        "                yield sentence"
      ]
    },
    {
      "cell_type": "code",
      "execution_count": null,
      "metadata": {
        "id": "-UJuysPQR-Xd"
      },
      "outputs": [],
      "source": [
        "# Implement the epoch saver for Word2Vec\n",
        "class EpochSaver():\n",
        "    '''Callback to save model after each epoch.'''\n",
        "\n",
        "    def __init__(self, output_dir: str, prefix: str, start_epoch: int = 1):\n",
        "        self.output_dir = output_dir\n",
        "        self.prefix = prefix\n",
        "        self.epoch = start_epoch\n",
        "\n",
        "    def on_epoch_end(self, model):\n",
        "        output_path = join_path(self.output_dir, f'{self.prefix}_epoch_{self.epoch}.model')\n",
        "        model.save(output_path)\n",
        "        self.epoch += 1"
      ]
    },
    {
      "cell_type": "markdown",
      "metadata": {
        "id": "yWGSqYWJFzWE"
      },
      "source": [
        "### After we have defined these two classes, we train the model in three steps:\n",
        "\n",
        "#### Initialize Word2Vec model\n",
        "#### Build Word2Vec vocabulary\n",
        "#### Train the model"
      ]
    },
    {
      "cell_type": "code",
      "execution_count": null,
      "metadata": {
        "colab": {
          "base_uri": "https://localhost:8080/"
        },
        "id": "0CAMuuopS8sj",
        "outputId": "b314a0a9-1f6f-41ca-cf0c-1a293d18494c"
      },
      "outputs": [
        {
          "name": "stderr",
          "output_type": "stream",
          "text": [
            "[nltk_data] Downloading package punkt to /root/nltk_data...\n",
            "[nltk_data]   Unzipping tokenizers/punkt.zip.\n"
          ]
        },
        {
          "data": {
            "text/plain": [
              "True"
            ]
          },
          "execution_count": 9,
          "metadata": {},
          "output_type": "execute_result"
        }
      ],
      "source": [
        "from gensim import models\n",
        "import tqdm\n",
        "import nltk\n",
        "nltk.download('punkt')"
      ]
    },
    {
      "cell_type": "code",
      "execution_count": null,
      "metadata": {
        "colab": {
          "base_uri": "https://localhost:8080/"
        },
        "id": "ASmDZvFDFaiu",
        "outputId": "70fe8172-9376-41ea-8301-40382a37e862"
      },
      "outputs": [
        {
          "name": "stderr",
          "output_type": "stream",
          "text": [
            "WARNING:gensim.models.word2vec:Callbacks are no longer retained by the model, so must be provided whenever training is triggered, as in initialization with a corpus or calling `train()`. The callbacks provided in this initialization without triggering train will be ignored.\n"
          ]
        },
        {
          "data": {
            "text/plain": [
              "(26497202, 29328660)"
            ]
          },
          "execution_count": 20,
          "metadata": {},
          "output_type": "execute_result"
        }
      ],
      "source": [
        "cord_sentences = CORDDataIteratorWord2Vec(eng_texts)\n",
        "w2v_saved_models_dir = dir_path+'/models-word2vec'\n",
        "saved_models_prefix = 'model'\n",
        "\n",
        "# 1. Setup initial model\n",
        "w2v_model = models.Word2Vec(\n",
        "    min_count=5, ## Changed min count from 20 to 5 in second iteration.\n",
        "    window=2,\n",
        "    vector_size=300,\n",
        "    negative=5,\n",
        "    callbacks=[EpochSaver(w2v_saved_models_dir, saved_models_prefix)]\n",
        ")\n",
        "\n",
        "# 2. Build vocabulary\n",
        "w2v_model.build_vocab(cord_sentences)\n",
        "\n",
        "# 3. Train model\n",
        "w2v_model.train(\n",
        "    cord_sentences,\n",
        "    total_examples=w2v_model.corpus_count,\n",
        "    epochs=20,\n",
        "    report_delay=30\n",
        ")"
      ]
    },
    {
      "cell_type": "code",
      "execution_count": null,
      "metadata": {
        "id": "OeH6pBduTDVn"
      },
      "outputs": [],
      "source": [
        "w2v_model.save(model_path) # Save the model"
      ]
    },
    {
      "cell_type": "code",
      "execution_count": null,
      "metadata": {
        "id": "Q_SK7cAr2jPX"
      },
      "outputs": [],
      "source": [
        "w2v_model = models.Word2Vec.load(model_path)  # open the model"
      ]
    },
    {
      "cell_type": "code",
      "execution_count": null,
      "metadata": {
        "colab": {
          "base_uri": "https://localhost:8080/"
        },
        "id": "HSjX2UMVF47i",
        "outputId": "4a7f92d7-62f8-4c21-ce26-56894958df4a"
      },
      "outputs": [
        {
          "data": {
            "text/plain": [
              "[('covid19', 0.5007758736610413),\n",
              " ('term', 0.36903080344200134),\n",
              " ('postcovid19', 0.3542958199977875),\n",
              " ('imagined', 0.3471318781375885),\n",
              " ('postcovid', 0.30385762453079224),\n",
              " ('sixmonth', 0.29243603348731995),\n",
              " ('covidrelated', 0.2911430597305298),\n",
              " ('run', 0.2908444106578827),\n",
              " ('noncovid', 0.28789523243904114),\n",
              " ('covid19related', 0.281233549118042)]"
            ]
          },
          "execution_count": 11,
          "metadata": {},
          "output_type": "execute_result"
        }
      ],
      "source": [
        "w2v_model.wv.most_similar('covid') # checking the words more similiar to covid"
      ]
    },
    {
      "cell_type": "code",
      "execution_count": null,
      "metadata": {
        "id": "z4W6yPuyTGTK"
      },
      "outputs": [],
      "source": [
        "#Words to compute cosine similarity over  \n",
        "word1 = 'china'\n",
        "word2 = 'wuhan'\n",
        "\n",
        "#Get the word embeddings \n",
        "embedding1 = w2v_model.wv[word1]\n",
        "embedding2 = w2v_model.wv[word2]"
      ]
    },
    {
      "cell_type": "code",
      "execution_count": null,
      "metadata": {
        "colab": {
          "base_uri": "https://localhost:8080/"
        },
        "id": "2aT0305lTPuh",
        "outputId": "ccfab50a-088a-425c-e4ae-023977a5b21f"
      },
      "outputs": [
        {
          "name": "stdout",
          "output_type": "stream",
          "text": [
            "Word1: china --- Word2: wuhan\n",
            "Cosine similarity: 0.3657138\n"
          ]
        }
      ],
      "source": [
        "#Compute the cosine similarity and print the results \n",
        "cosineSimilarity = np.sum(embedding1*embedding2) / (np.sqrt(np.sum(np.square(embedding1)))*np.sqrt(np.sum(np.square(embedding2))))\n",
        "print(\"Word1: \"+word1+\" --- Word2: \"+word2)\n",
        "print(\"Cosine similarity: \"+ str(cosineSimilarity))"
      ]
    },
    {
      "cell_type": "markdown",
      "metadata": {
        "id": "TGfISNAVTZVr"
      },
      "source": [
        "##### Our cosine similarity score is very less ! We can train our word 2 vec model for better understanding the word using different hyperparameter."
      ]
    },
    {
      "cell_type": "markdown",
      "source": [
        "##### Changing the vector dimesion from 250 to 300. Changing the min count from 20 to 5 ( this means sentences having words less than 5 will not be considered). "
      ],
      "metadata": {
        "id": "0ET8X8CTutE4"
      }
    },
    {
      "cell_type": "code",
      "execution_count": null,
      "metadata": {
        "colab": {
          "base_uri": "https://localhost:8080/"
        },
        "id": "9S7Eb_k5YKYL",
        "outputId": "5aafa0a4-afe5-4a1d-9f6f-023a581876a5"
      },
      "outputs": [
        {
          "name": "stdout",
          "output_type": "stream",
          "text": [
            "Word1: china --- Word2: wuhan\n",
            "Cosine similarity: 0.37949038\n"
          ]
        }
      ],
      "source": [
        "#Compute the cosine similarity and print the results \n",
        "cosineSimilarity = np.sum(embedding1*embedding2) / (np.sqrt(np.sum(np.square(embedding1)))*np.sqrt(np.sum(np.square(embedding2))))\n",
        "print(\"Word1: \"+word1+\" --- Word2: \"+word2)\n",
        "print(\"Cosine similarity: \"+ str(cosineSimilarity))"
      ]
    },
    {
      "cell_type": "markdown",
      "metadata": {
        "id": "MauVC1bhYesS"
      },
      "source": [
        "##### Still marginal improvement in cosine score"
      ]
    },
    {
      "cell_type": "code",
      "execution_count": null,
      "metadata": {
        "colab": {
          "base_uri": "https://localhost:8080/"
        },
        "id": "8TmAcRQSY6zy",
        "outputId": "fc21cc07-d7d5-4e94-919c-3c2832168631"
      },
      "outputs": [
        {
          "name": "stdout",
          "output_type": "stream",
          "text": [
            "Text cleaning initilized on 12 workers\n"
          ]
        },
        {
          "name": "stderr",
          "output_type": "stream",
          "text": [
            "Cleaning texts: 100%|██████████| 10000/10000 [00:02<00:00, 4669.92it/s]\n",
            "Adding to index: 100%|██████████| 10000/10000 [00:05<00:00, 1842.33it/s]\n"
          ]
        }
      ],
      "source": [
        "# To demonstrate how the search engine works, we index on a subset of the documents in the dataframe.\n",
        "ai_index = QueryAppenderIndex(w2v_model.wv.most_similar, n_similars=1)\n",
        "ai_index.build_from_df(\n",
        "    df,\n",
        "    'title',\n",
        "    'url',\n",
        "    'text',\n",
        "    verbose=True, \n",
        "    use_multiprocessing=True,\n",
        "    workers=-1\n",
        ")"
      ]
    },
    {
      "cell_type": "code",
      "execution_count": null,
      "metadata": {
        "id": "_t6KildqZcC4"
      },
      "outputs": [],
      "source": [
        "def search_and_show(query: str, max_results: int = 3, max_body_length: int = 500):\n",
        "    '''Searches using the AI Index and shows the result\n",
        "    \n",
        "    Args:\n",
        "        query: Search query\n",
        "        max_results: Max results to show for each query    \n",
        "    '''\n",
        "    docs, scores, errmsgs = ai_index.search(query)\n",
        "    if errmsgs:\n",
        "        print('The following errors occurred:', errmsgs)\n",
        "    else:\n",
        "        if len(docs) == 0:\n",
        "            print('Sorry, no results found.')\n",
        "        else:\n",
        "            for doc, score in zip(docs[:max_results], scores[:max_results]):\n",
        "                print(f'{doc.uid}  {str(doc.title)[:70]:<70}  {score:.4f}')\n",
        "                print('---')"
      ]
    },
    {
      "cell_type": "code",
      "execution_count": null,
      "metadata": {
        "colab": {
          "base_uri": "https://localhost:8080/"
        },
        "id": "Fp-iukrrZphm",
        "outputId": "c2114779-cb64-4819-ab69-7354a57d5965"
      },
      "outputs": [
        {
          "name": "stdout",
          "output_type": "stream",
          "text": [
            "Rapid Counseling  as a new breakthrough  An alternative approach for patients with COVID-19  https://pubmed.ncbi.nlm.nih.gov/34861958                                0.2950\n",
            "---\n",
            "---\n",
            "Identification of Research Priorities during the COVID-19 Pandemic  Implications for Its Management  https://pubmed.ncbi.nlm.nih.gov/34948715                                0.2694\n",
            "---\n",
            "---\n",
            "Advancing Clinical Trials in Nursing Homes  A Proposed Roadmap to Success  https://pubmed.ncbi.nlm.nih.gov/34953784                                0.1953\n",
            "---\n",
            "---\n"
          ]
        }
      ],
      "source": [
        "search_and_show('latest research')"
      ]
    },
    {
      "cell_type": "markdown",
      "source": [
        "##### The word 2 vec model does understand the context of the given sentences. But we can try some other model to check if they give us some or different result."
      ],
      "metadata": {
        "id": "DHQ9GVkjv_Y4"
      }
    },
    {
      "cell_type": "markdown",
      "metadata": {
        "id": "TPmycX-L3XFL"
      },
      "source": [
        "## Using BERT for creating the sentence embeddings\n",
        "\n"
      ]
    },
    {
      "cell_type": "code",
      "execution_count": 25,
      "metadata": {
        "id": "ENytul37pAgs"
      },
      "outputs": [],
      "source": [
        "import locale\n",
        "def getpreferredencoding(do_setlocale = True):\n",
        "    return \"UTF-8\"\n",
        "locale.getpreferredencoding = getpreferredencoding"
      ]
    },
    {
      "cell_type": "code",
      "execution_count": 26,
      "metadata": {
        "colab": {
          "base_uri": "https://localhost:8080/"
        },
        "id": "AzDamlyB3B16",
        "outputId": "fff8a9cb-416f-418f-d110-b519410eb6c9"
      },
      "outputs": [
        {
          "output_type": "stream",
          "name": "stdout",
          "text": [
            "Looking in indexes: https://pypi.org/simple, https://us-python.pkg.dev/colab-wheels/public/simple/\n",
            "Requirement already satisfied: transformers in /usr/local/lib/python3.10/dist-packages (4.29.2)\n",
            "Requirement already satisfied: filelock in /usr/local/lib/python3.10/dist-packages (from transformers) (3.12.0)\n",
            "Requirement already satisfied: huggingface-hub<1.0,>=0.14.1 in /usr/local/lib/python3.10/dist-packages (from transformers) (0.14.1)\n",
            "Requirement already satisfied: numpy>=1.17 in /usr/local/lib/python3.10/dist-packages (from transformers) (1.22.4)\n",
            "Requirement already satisfied: packaging>=20.0 in /usr/local/lib/python3.10/dist-packages (from transformers) (23.1)\n",
            "Requirement already satisfied: pyyaml>=5.1 in /usr/local/lib/python3.10/dist-packages (from transformers) (6.0)\n",
            "Requirement already satisfied: regex!=2019.12.17 in /usr/local/lib/python3.10/dist-packages (from transformers) (2022.10.31)\n",
            "Requirement already satisfied: requests in /usr/local/lib/python3.10/dist-packages (from transformers) (2.27.1)\n",
            "Requirement already satisfied: tokenizers!=0.11.3,<0.14,>=0.11.1 in /usr/local/lib/python3.10/dist-packages (from transformers) (0.13.3)\n",
            "Requirement already satisfied: tqdm>=4.27 in /usr/local/lib/python3.10/dist-packages (from transformers) (4.65.0)\n",
            "Requirement already satisfied: fsspec in /usr/local/lib/python3.10/dist-packages (from huggingface-hub<1.0,>=0.14.1->transformers) (2023.4.0)\n",
            "Requirement already satisfied: typing-extensions>=3.7.4.3 in /usr/local/lib/python3.10/dist-packages (from huggingface-hub<1.0,>=0.14.1->transformers) (4.5.0)\n",
            "Requirement already satisfied: urllib3<1.27,>=1.21.1 in /usr/local/lib/python3.10/dist-packages (from requests->transformers) (1.26.15)\n",
            "Requirement already satisfied: certifi>=2017.4.17 in /usr/local/lib/python3.10/dist-packages (from requests->transformers) (2022.12.7)\n",
            "Requirement already satisfied: charset-normalizer~=2.0.0 in /usr/local/lib/python3.10/dist-packages (from requests->transformers) (2.0.12)\n",
            "Requirement already satisfied: idna<4,>=2.5 in /usr/local/lib/python3.10/dist-packages (from requests->transformers) (3.4)\n"
          ]
        }
      ],
      "source": [
        "! pip install transformers"
      ]
    },
    {
      "cell_type": "code",
      "execution_count": 27,
      "metadata": {
        "id": "Ve8mFyDvF7p3"
      },
      "outputs": [],
      "source": [
        "device = torch.device(\"cuda\" if torch.cuda.is_available() else \"cpu\")"
      ]
    },
    {
      "cell_type": "code",
      "execution_count": 28,
      "metadata": {
        "colab": {
          "base_uri": "https://localhost:8080/"
        },
        "id": "4JPrn8xX6ClN",
        "outputId": "5f767ce8-979f-4428-acd9-209c33c66fe6"
      },
      "outputs": [
        {
          "output_type": "stream",
          "name": "stderr",
          "text": [
            "Some weights of the model checkpoint at bert-base-uncased were not used when initializing BertModel: ['cls.predictions.transform.LayerNorm.bias', 'cls.seq_relationship.weight', 'cls.predictions.transform.dense.bias', 'cls.seq_relationship.bias', 'cls.predictions.bias', 'cls.predictions.transform.LayerNorm.weight', 'cls.predictions.transform.dense.weight', 'cls.predictions.decoder.weight']\n",
            "- This IS expected if you are initializing BertModel from the checkpoint of a model trained on another task or with another architecture (e.g. initializing a BertForSequenceClassification model from a BertForPreTraining model).\n",
            "- This IS NOT expected if you are initializing BertModel from the checkpoint of a model that you expect to be exactly identical (initializing a BertForSequenceClassification model from a BertForSequenceClassification model).\n"
          ]
        }
      ],
      "source": [
        "import torch\n",
        "from transformers import BertTokenizer, BertModel\n",
        "\n",
        "# OPTIONAL: if you want to have more information on what's happening, activate the logger as follows\n",
        "import logging\n",
        "#logging.basicConfig(level=logging.INFO)\n",
        "\n",
        "import matplotlib.pyplot as plt\n",
        "from transformers import BertModel, BertTokenizer\n",
        "\n",
        "model = BertModel.from_pretrained('bert-base-uncased',\n",
        "           output_hidden_states = True,)\n",
        "tokenizer = BertTokenizer.from_pretrained('bert-base-uncased')"
      ]
    },
    {
      "cell_type": "markdown",
      "metadata": {
        "id": "uMvppMpKGT-P"
      },
      "source": [
        "### 2. Create contextual embeddings"
      ]
    },
    {
      "cell_type": "markdown",
      "metadata": {
        "id": "B0M9RqlGulmo"
      },
      "source": [
        "#### We have to put the input text into a specific format that BERT can read. Mainly we add the [CLS] to the beginning and [SEP] to the end of the input. Then we convert the tokenized BERT input to the tensor format."
      ]
    },
    {
      "cell_type": "code",
      "execution_count": 29,
      "metadata": {
        "id": "qVn2rZLxDnGc"
      },
      "outputs": [],
      "source": [
        "def bert_text_preparation(text, tokenizer):\n",
        "  \"\"\"\n",
        "  Preprocesses text input in a way that BERT can interpret.\n",
        "  \"\"\"\n",
        "  encodings = tokenizer(text, \n",
        "    padding='max_length', # pad the texts to the maximum length (so that all outputs have the same length)\n",
        "    max_length=512, # return max lenght 512\n",
        "    truncation=True)\n",
        "\n",
        "  \n",
        "  tokenized_text=[]\n",
        "  for tokens in encodings['input_ids']:\n",
        "    tokenized_text.append((tokenizer.convert_ids_to_tokens(tokens)))\n",
        "\n",
        "  # convert inputs to tensors\n",
        "  tokens_tensor = torch.tensor([encodings['input_ids']])\n",
        "  segments_tensor = torch.tensor([encodings['attention_mask']])\n",
        "\n",
        "  return tokenized_text, tokens_tensor, segments_tensor"
      ]
    },
    {
      "cell_type": "code",
      "execution_count": 30,
      "metadata": {
        "colab": {
          "base_uri": "https://localhost:8080/"
        },
        "id": "Pq4MQ5gAx2nm",
        "outputId": "3b9a93d3-9bfe-4d2b-9ddc-b7c3ee51bc06"
      },
      "outputs": [
        {
          "output_type": "execute_result",
          "data": {
            "text/plain": [
              "(['[CLS]',\n",
              "  'the',\n",
              "  'impact',\n",
              "  'of',\n",
              "  'co',\n",
              "  '##vid',\n",
              "  '-',\n",
              "  '19',\n",
              "  'on',\n",
              "  'on',\n",
              "  '##cology',\n",
              "  'professionals',\n",
              "  '-',\n",
              "  'one',\n",
              "  'year',\n",
              "  'on',\n",
              "  'lessons',\n",
              "  'learned',\n",
              "  'from',\n",
              "  'the',\n",
              "  'es',\n",
              "  '##mo',\n",
              "  'res',\n",
              "  '##ili',\n",
              "  '##ence',\n",
              "  'task',\n",
              "  'force',\n",
              "  'survey',\n",
              "  'series',\n",
              "  '.',\n",
              "  'background',\n",
              "  'co',\n",
              "  '##vid',\n",
              "  '-',\n",
              "  '19',\n",
              "  'has',\n",
              "  'had',\n",
              "  'a',\n",
              "  'significant',\n",
              "  'impact',\n",
              "  'on',\n",
              "  'the',\n",
              "  'well',\n",
              "  '-',\n",
              "  'being',\n",
              "  'and',\n",
              "  'job',\n",
              "  'performance',\n",
              "  'of',\n",
              "  'on',\n",
              "  '##cology',\n",
              "  'professionals',\n",
              "  'globally',\n",
              "  'the',\n",
              "  'european',\n",
              "  'society',\n",
              "  'for',\n",
              "  'medical',\n",
              "  'on',\n",
              "  '##cology',\n",
              "  'es',\n",
              "  '##mo',\n",
              "  'res',\n",
              "  '##ili',\n",
              "  '##ence',\n",
              "  'task',\n",
              "  'force',\n",
              "  'collaboration',\n",
              "  'set',\n",
              "  'out',\n",
              "  'to',\n",
              "  'investigate',\n",
              "  'and',\n",
              "  'monitor',\n",
              "  'well',\n",
              "  '-',\n",
              "  'being',\n",
              "  'since',\n",
              "  'co',\n",
              "  '##vid',\n",
              "  '-',\n",
              "  '19',\n",
              "  'in',\n",
              "  'relation',\n",
              "  'to',\n",
              "  'work',\n",
              "  'lifestyle',\n",
              "  'and',\n",
              "  'support',\n",
              "  'factors',\n",
              "  'in',\n",
              "  'on',\n",
              "  '##cology',\n",
              "  'professionals',\n",
              "  '1',\n",
              "  'year',\n",
              "  'on',\n",
              "  'since',\n",
              "  'the',\n",
              "  'start',\n",
              "  'of',\n",
              "  'the',\n",
              "  'pan',\n",
              "  '##de',\n",
              "  '##mic',\n",
              "  'methods',\n",
              "  'an',\n",
              "  'online',\n",
              "  'anonymous',\n",
              "  'survey',\n",
              "  'was',\n",
              "  'conducted',\n",
              "  'in',\n",
              "  'february',\n",
              "  'march',\n",
              "  '2021',\n",
              "  'survey',\n",
              "  'iii',\n",
              "  'key',\n",
              "  'outcome',\n",
              "  'variables',\n",
              "  'included',\n",
              "  'risk',\n",
              "  'of',\n",
              "  'poor',\n",
              "  'well',\n",
              "  '-',\n",
              "  'being',\n",
              "  'or',\n",
              "  'distress',\n",
              "  'expanded',\n",
              "  'well',\n",
              "  '-',\n",
              "  'being',\n",
              "  'index',\n",
              "  'feeling',\n",
              "  'burn',\n",
              "  '##out',\n",
              "  'single',\n",
              "  'item',\n",
              "  'from',\n",
              "  'expanded',\n",
              "  'well',\n",
              "  '-',\n",
              "  'being',\n",
              "  'index',\n",
              "  'and',\n",
              "  'job',\n",
              "  'performance',\n",
              "  'since',\n",
              "  'co',\n",
              "  '##vid',\n",
              "  '-',\n",
              "  '19',\n",
              "  'longitudinal',\n",
              "  'analysis',\n",
              "  'of',\n",
              "  'responses',\n",
              "  'to',\n",
              "  'the',\n",
              "  'series',\n",
              "  'of',\n",
              "  'three',\n",
              "  'surveys',\n",
              "  'since',\n",
              "  'co',\n",
              "  '##vid',\n",
              "  '-',\n",
              "  '19',\n",
              "  'was',\n",
              "  'carried',\n",
              "  'out',\n",
              "  'and',\n",
              "  'responses',\n",
              "  'to',\n",
              "  'job',\n",
              "  'demands',\n",
              "  'and',\n",
              "  'resources',\n",
              "  'questions',\n",
              "  'were',\n",
              "  'inter',\n",
              "  '##rogated',\n",
              "  'sp',\n",
              "  '##ss',\n",
              "  'v',\n",
              "  '26',\n",
              "  '0',\n",
              "  'v',\n",
              "  '27',\n",
              "  '0',\n",
              "  'and',\n",
              "  'graph',\n",
              "  '##pad',\n",
              "  'prism',\n",
              "  'v',\n",
              "  '##9',\n",
              "  '0',\n",
              "  'were',\n",
              "  'used',\n",
              "  'for',\n",
              "  'statistical',\n",
              "  'analyses',\n",
              "  'results',\n",
              "  'responses',\n",
              "  'from',\n",
              "  '126',\n",
              "  '##9',\n",
              "  'participants',\n",
              "  'from',\n",
              "  '104',\n",
              "  'countries',\n",
              "  'were',\n",
              "  'anal',\n",
              "  '##yse',\n",
              "  '##d',\n",
              "  'in',\n",
              "  'survey',\n",
              "  'iii',\n",
              "  '55',\n",
              "  'n',\n",
              "  '69',\n",
              "  '##9',\n",
              "  '126',\n",
              "  '##9',\n",
              "  'female',\n",
              "  '54',\n",
              "  'n',\n",
              "  '68',\n",
              "  '##6',\n",
              "  '126',\n",
              "  '##9',\n",
              "  '>',\n",
              "  '40',\n",
              "  'years',\n",
              "  'and',\n",
              "  '69',\n",
              "  'n',\n",
              "  '85',\n",
              "  '##2',\n",
              "  '123',\n",
              "  '##0',\n",
              "  'of',\n",
              "  'white',\n",
              "  'ethnicity',\n",
              "  'there',\n",
              "  'continues',\n",
              "  'to',\n",
              "  'be',\n",
              "  'an',\n",
              "  'increased',\n",
              "  'risk',\n",
              "  'of',\n",
              "  'poor',\n",
              "  'well',\n",
              "  '-',\n",
              "  'being',\n",
              "  'or',\n",
              "  'distress',\n",
              "  'n',\n",
              "  '46',\n",
              "  '##4',\n",
              "  '116',\n",
              "  '##9',\n",
              "  '40',\n",
              "  'and',\n",
              "  'feeling',\n",
              "  'burn',\n",
              "  '##out',\n",
              "  'n',\n",
              "  '660',\n",
              "  '116',\n",
              "  '##9',\n",
              "  '57',\n",
              "  'compared',\n",
              "  'with',\n",
              "  'survey',\n",
              "  'i',\n",
              "  '25',\n",
              "  'and',\n",
              "  '38',\n",
              "  'respectively',\n",
              "  'p',\n",
              "  '<',\n",
              "  '0',\n",
              "  '000',\n",
              "  '##1',\n",
              "  'despite',\n",
              "  'improved',\n",
              "  'job',\n",
              "  'performance',\n",
              "  'compared',\n",
              "  'with',\n",
              "  'the',\n",
              "  'initial',\n",
              "  'period',\n",
              "  'of',\n",
              "  'the',\n",
              "  'pan',\n",
              "  '##de',\n",
              "  '##mic',\n",
              "  'more',\n",
              "  'participants',\n",
              "  'report',\n",
              "  'feeling',\n",
              "  'overwhelmed',\n",
              "  'with',\n",
              "  'work',\n",
              "  '##load',\n",
              "  '45',\n",
              "  'versus',\n",
              "  '29',\n",
              "  'p',\n",
              "  '<',\n",
              "  '0',\n",
              "  '000',\n",
              "  '##1',\n",
              "  'there',\n",
              "  'remain',\n",
              "  'concerns',\n",
              "  'about',\n",
              "  'the',\n",
              "  'negative',\n",
              "  'impact',\n",
              "  'of',\n",
              "  'the',\n",
              "  'pan',\n",
              "  '##de',\n",
              "  '##mic',\n",
              "  'on',\n",
              "  'career',\n",
              "  'development',\n",
              "  'training',\n",
              "  '43',\n",
              "  'job',\n",
              "  'security',\n",
              "  '37',\n",
              "  'and',\n",
              "  'international',\n",
              "  'fellowship',\n",
              "  'opportunities',\n",
              "  '76',\n",
              "  'alarm',\n",
              "  '##ingly',\n",
              "  '25',\n",
              "  'n',\n",
              "  '266',\n",
              "  '1086',\n",
              "  'are',\n",
              "  'considering',\n",
              "  'changing',\n",
              "  'their',\n",
              "  'future',\n",
              "  'career',\n",
              "  'with',\n",
              "  '38',\n",
              "  'n',\n",
              "  '100',\n",
              "  '266',\n",
              "  'contemplating',\n",
              "  'leaving',\n",
              "  'the',\n",
              "  'profession',\n",
              "  'conclusion',\n",
              "  'on',\n",
              "  '##cology',\n",
              "  'professionals',\n",
              "  'continue',\n",
              "  'to',\n",
              "  'face',\n",
              "  'increased',\n",
              "  'job',\n",
              "  'demands',\n",
              "  'there',\n",
              "  'is',\n",
              "  'now',\n",
              "  'significant',\n",
              "  'concern',\n",
              "  'regarding',\n",
              "  'potential',\n",
              "  'at',\n",
              "  '##tri',\n",
              "  '##tion',\n",
              "  'in',\n",
              "  'the',\n",
              "  'on',\n",
              "  '##cology',\n",
              "  'workforce',\n",
              "  'national',\n",
              "  'and',\n",
              "  'international',\n",
              "  'stakeholders',\n",
              "  'must',\n",
              "  'act',\n",
              "  'immediately',\n",
              "  'and',\n",
              "  'work',\n",
              "  'closely',\n",
              "  'with',\n",
              "  'on',\n",
              "  '##cology',\n",
              "  'professionals',\n",
              "  'to',\n",
              "  'draw',\n",
              "  'up',\n",
              "  'future',\n",
              "  '-',\n",
              "  'proof',\n",
              "  'recovery',\n",
              "  'plans',\n",
              "  '[SEP]',\n",
              "  '[PAD]',\n",
              "  '[PAD]',\n",
              "  '[PAD]',\n",
              "  '[PAD]',\n",
              "  '[PAD]',\n",
              "  '[PAD]',\n",
              "  '[PAD]',\n",
              "  '[PAD]',\n",
              "  '[PAD]',\n",
              "  '[PAD]',\n",
              "  '[PAD]',\n",
              "  '[PAD]',\n",
              "  '[PAD]',\n",
              "  '[PAD]',\n",
              "  '[PAD]',\n",
              "  '[PAD]',\n",
              "  '[PAD]',\n",
              "  '[PAD]',\n",
              "  '[PAD]',\n",
              "  '[PAD]',\n",
              "  '[PAD]',\n",
              "  '[PAD]',\n",
              "  '[PAD]',\n",
              "  '[PAD]',\n",
              "  '[PAD]',\n",
              "  '[PAD]',\n",
              "  '[PAD]',\n",
              "  '[PAD]',\n",
              "  '[PAD]',\n",
              "  '[PAD]',\n",
              "  '[PAD]',\n",
              "  '[PAD]',\n",
              "  '[PAD]',\n",
              "  '[PAD]',\n",
              "  '[PAD]',\n",
              "  '[PAD]',\n",
              "  '[PAD]',\n",
              "  '[PAD]',\n",
              "  '[PAD]',\n",
              "  '[PAD]',\n",
              "  '[PAD]',\n",
              "  '[PAD]',\n",
              "  '[PAD]',\n",
              "  '[PAD]',\n",
              "  '[PAD]',\n",
              "  '[PAD]',\n",
              "  '[PAD]',\n",
              "  '[PAD]',\n",
              "  '[PAD]',\n",
              "  '[PAD]',\n",
              "  '[PAD]',\n",
              "  '[PAD]',\n",
              "  '[PAD]',\n",
              "  '[PAD]',\n",
              "  '[PAD]',\n",
              "  '[PAD]',\n",
              "  '[PAD]',\n",
              "  '[PAD]',\n",
              "  '[PAD]',\n",
              "  '[PAD]',\n",
              "  '[PAD]',\n",
              "  '[PAD]',\n",
              "  '[PAD]',\n",
              "  '[PAD]',\n",
              "  '[PAD]',\n",
              "  '[PAD]',\n",
              "  '[PAD]',\n",
              "  '[PAD]',\n",
              "  '[PAD]',\n",
              "  '[PAD]',\n",
              "  '[PAD]',\n",
              "  '[PAD]',\n",
              "  '[PAD]',\n",
              "  '[PAD]',\n",
              "  '[PAD]',\n",
              "  '[PAD]',\n",
              "  '[PAD]',\n",
              "  '[PAD]',\n",
              "  '[PAD]',\n",
              "  '[PAD]',\n",
              "  '[PAD]',\n",
              "  '[PAD]',\n",
              "  '[PAD]',\n",
              "  '[PAD]',\n",
              "  '[PAD]',\n",
              "  '[PAD]',\n",
              "  '[PAD]',\n",
              "  '[PAD]',\n",
              "  '[PAD]',\n",
              "  '[PAD]',\n",
              "  '[PAD]',\n",
              "  '[PAD]',\n",
              "  '[PAD]',\n",
              "  '[PAD]',\n",
              "  '[PAD]',\n",
              "  '[PAD]',\n",
              "  '[PAD]',\n",
              "  '[PAD]',\n",
              "  '[PAD]',\n",
              "  '[PAD]',\n",
              "  '[PAD]'],\n",
              " tensor([[  101,  1996,  4254,  1997,  2522, 17258,  1011,  2539,  2006,  2006,\n",
              "          19824,  8390,  1011,  2028,  2095,  2006,  8220,  4342,  2013,  1996,\n",
              "           9686,  5302, 24501, 18622, 10127,  4708,  2486,  5002,  2186,  1012,\n",
              "           4281,  2522, 17258,  1011,  2539,  2038,  2018,  1037,  3278,  4254,\n",
              "           2006,  1996,  2092,  1011,  2108,  1998,  3105,  2836,  1997,  2006,\n",
              "          19824,  8390, 16452,  1996,  2647,  2554,  2005,  2966,  2006, 19824,\n",
              "           9686,  5302, 24501, 18622, 10127,  4708,  2486,  5792,  2275,  2041,\n",
              "           2000,  8556,  1998,  8080,  2092,  1011,  2108,  2144,  2522, 17258,\n",
              "           1011,  2539,  1999,  7189,  2000,  2147,  9580,  1998,  2490,  5876,\n",
              "           1999,  2006, 19824,  8390,  1015,  2095,  2006,  2144,  1996,  2707,\n",
              "           1997,  1996,  6090,  3207,  7712,  4725,  2019,  3784, 10812,  5002,\n",
              "           2001,  4146,  1999,  2337,  2233, 25682,  5002,  3523,  3145,  9560,\n",
              "          10857,  2443,  3891,  1997,  3532,  2092,  1011,  2108,  2030, 12893,\n",
              "           4423,  2092,  1011,  2108,  5950,  3110,  6402,  5833,  2309,  8875,\n",
              "           2013,  4423,  2092,  1011,  2108,  5950,  1998,  3105,  2836,  2144,\n",
              "           2522, 17258,  1011,  2539, 20134,  4106,  1997, 10960,  2000,  1996,\n",
              "           2186,  1997,  2093, 12265,  2144,  2522, 17258,  1011,  2539,  2001,\n",
              "           3344,  2041,  1998, 10960,  2000,  3105,  7670,  1998,  4219,  3980,\n",
              "           2020,  6970, 26565, 11867,  4757,  1058,  2656,  1014,  1058,  2676,\n",
              "           1014,  1998, 10629, 15455, 26113,  1058,  2683,  1014,  2020,  2109,\n",
              "           2005,  7778, 16478,  3463, 10960,  2013, 14010,  2683,  6818,  2013,\n",
              "           9645,  3032,  2020, 20302, 23274,  2094,  1999,  5002,  3523,  4583,\n",
              "           1050,  6353,  2683, 14010,  2683,  2931,  5139,  1050,  6273,  2575,\n",
              "          14010,  2683,  1028,  2871,  2086,  1998,  6353,  1050,  5594,  2475,\n",
              "          13138,  2692,  1997,  2317, 18240,  2045,  4247,  2000,  2022,  2019,\n",
              "           3445,  3891,  1997,  3532,  2092,  1011,  2108,  2030, 12893,  1050,\n",
              "           4805,  2549, 12904,  2683,  2871,  1998,  3110,  6402,  5833,  1050,\n",
              "          20982, 12904,  2683,  5401,  4102,  2007,  5002,  1045,  2423,  1998,\n",
              "           4229,  4414,  1052,  1026,  1014,  2199,  2487,  2750,  5301,  3105,\n",
              "           2836,  4102,  2007,  1996,  3988,  2558,  1997,  1996,  6090,  3207,\n",
              "           7712,  2062,  6818,  3189,  3110, 13394,  2007,  2147, 11066,  3429,\n",
              "           6431,  2756,  1052,  1026,  1014,  2199,  2487,  2045,  3961,  5936,\n",
              "           2055,  1996,  4997,  4254,  1997,  1996,  6090,  3207,  7712,  2006,\n",
              "           2476,  2458,  2731,  4724,  3105,  3036,  4261,  1998,  2248,  7881,\n",
              "           6695,  6146,  8598, 15787,  2423,  1050, 25162, 28196,  2024,  6195,\n",
              "           5278,  2037,  2925,  2476,  2007,  4229,  1050,  2531, 25162, 25247,\n",
              "           2975,  1996,  9518,  7091,  2006, 19824,  8390,  3613,  2000,  2227,\n",
              "           3445,  3105,  7670,  2045,  2003,  2085,  3278,  5142,  4953,  4022,\n",
              "           2012, 18886,  3508,  1999,  1996,  2006, 19824, 14877,  2120,  1998,\n",
              "           2248, 22859,  2442,  2552,  3202,  1998,  2147,  4876,  2007,  2006,\n",
              "          19824,  8390,  2000,  4009,  2039,  2925,  1011,  6947,  7233,  3488,\n",
              "            102,     0,     0,     0,     0,     0,     0,     0,     0,     0,\n",
              "              0,     0,     0,     0,     0,     0,     0,     0,     0,     0,\n",
              "              0,     0,     0,     0,     0,     0,     0,     0,     0,     0,\n",
              "              0,     0,     0,     0,     0,     0,     0,     0,     0,     0,\n",
              "              0,     0,     0,     0,     0,     0,     0,     0,     0,     0,\n",
              "              0,     0,     0,     0,     0,     0,     0,     0,     0,     0,\n",
              "              0,     0,     0,     0,     0,     0,     0,     0,     0,     0,\n",
              "              0,     0,     0,     0,     0,     0,     0,     0,     0,     0,\n",
              "              0,     0,     0,     0,     0,     0,     0,     0,     0,     0,\n",
              "              0,     0,     0,     0,     0,     0,     0,     0,     0,     0,\n",
              "              0,     0]]),\n",
              " tensor([[1, 1, 1, 1, 1, 1, 1, 1, 1, 1, 1, 1, 1, 1, 1, 1, 1, 1, 1, 1, 1, 1, 1, 1,\n",
              "          1, 1, 1, 1, 1, 1, 1, 1, 1, 1, 1, 1, 1, 1, 1, 1, 1, 1, 1, 1, 1, 1, 1, 1,\n",
              "          1, 1, 1, 1, 1, 1, 1, 1, 1, 1, 1, 1, 1, 1, 1, 1, 1, 1, 1, 1, 1, 1, 1, 1,\n",
              "          1, 1, 1, 1, 1, 1, 1, 1, 1, 1, 1, 1, 1, 1, 1, 1, 1, 1, 1, 1, 1, 1, 1, 1,\n",
              "          1, 1, 1, 1, 1, 1, 1, 1, 1, 1, 1, 1, 1, 1, 1, 1, 1, 1, 1, 1, 1, 1, 1, 1,\n",
              "          1, 1, 1, 1, 1, 1, 1, 1, 1, 1, 1, 1, 1, 1, 1, 1, 1, 1, 1, 1, 1, 1, 1, 1,\n",
              "          1, 1, 1, 1, 1, 1, 1, 1, 1, 1, 1, 1, 1, 1, 1, 1, 1, 1, 1, 1, 1, 1, 1, 1,\n",
              "          1, 1, 1, 1, 1, 1, 1, 1, 1, 1, 1, 1, 1, 1, 1, 1, 1, 1, 1, 1, 1, 1, 1, 1,\n",
              "          1, 1, 1, 1, 1, 1, 1, 1, 1, 1, 1, 1, 1, 1, 1, 1, 1, 1, 1, 1, 1, 1, 1, 1,\n",
              "          1, 1, 1, 1, 1, 1, 1, 1, 1, 1, 1, 1, 1, 1, 1, 1, 1, 1, 1, 1, 1, 1, 1, 1,\n",
              "          1, 1, 1, 1, 1, 1, 1, 1, 1, 1, 1, 1, 1, 1, 1, 1, 1, 1, 1, 1, 1, 1, 1, 1,\n",
              "          1, 1, 1, 1, 1, 1, 1, 1, 1, 1, 1, 1, 1, 1, 1, 1, 1, 1, 1, 1, 1, 1, 1, 1,\n",
              "          1, 1, 1, 1, 1, 1, 1, 1, 1, 1, 1, 1, 1, 1, 1, 1, 1, 1, 1, 1, 1, 1, 1, 1,\n",
              "          1, 1, 1, 1, 1, 1, 1, 1, 1, 1, 1, 1, 1, 1, 1, 1, 1, 1, 1, 1, 1, 1, 1, 1,\n",
              "          1, 1, 1, 1, 1, 1, 1, 1, 1, 1, 1, 1, 1, 1, 1, 1, 1, 1, 1, 1, 1, 1, 1, 1,\n",
              "          1, 1, 1, 1, 1, 1, 1, 1, 1, 1, 1, 1, 1, 1, 1, 1, 1, 1, 1, 1, 1, 1, 1, 1,\n",
              "          1, 1, 1, 1, 1, 1, 1, 1, 1, 1, 1, 1, 1, 1, 1, 1, 1, 1, 1, 1, 1, 1, 1, 1,\n",
              "          1, 1, 1, 0, 0, 0, 0, 0, 0, 0, 0, 0, 0, 0, 0, 0, 0, 0, 0, 0, 0, 0, 0, 0,\n",
              "          0, 0, 0, 0, 0, 0, 0, 0, 0, 0, 0, 0, 0, 0, 0, 0, 0, 0, 0, 0, 0, 0, 0, 0,\n",
              "          0, 0, 0, 0, 0, 0, 0, 0, 0, 0, 0, 0, 0, 0, 0, 0, 0, 0, 0, 0, 0, 0, 0, 0,\n",
              "          0, 0, 0, 0, 0, 0, 0, 0, 0, 0, 0, 0, 0, 0, 0, 0, 0, 0, 0, 0, 0, 0, 0, 0,\n",
              "          0, 0, 0, 0, 0, 0, 0, 0]]))"
            ]
          },
          "metadata": {},
          "execution_count": 30
        }
      ],
      "source": [
        "bert_text_preparation(eng_texts[2], tokenizer)"
      ]
    },
    {
      "cell_type": "markdown",
      "metadata": {
        "id": "g6epxqIeuxag"
      },
      "source": [
        "#### In order to obtain the actual BERT embeddings, we take preprocessed input text, which now is represented by tensors, put it into our pre-trained BERT model.Which vector works best as a contextualized embedding? I would think it depends on the task. The original paper that proposed BERT examines six choices. I go with one of these choice that worked well in their experiments, which is the sum of the last four layers of the model."
      ]
    },
    {
      "cell_type": "markdown",
      "source": [
        "#### BERT Embedding :-\n",
        "#### Trail 1- with stacking all the layer"
      ],
      "metadata": {
        "id": "MxOLWSfHDAJy"
      }
    },
    {
      "cell_type": "code",
      "execution_count": 31,
      "metadata": {
        "id": "Gg-famMAGYlq"
      },
      "outputs": [],
      "source": [
        "def get_bert_embeddings(tokens_tensor, segments_tensor, model):\n",
        "    \"\"\"\n",
        "    Obtains BERT embeddings for tokens, in context of the given sentence.\n",
        "    \"\"\"\n",
        "    # gradient calculation id disabled\n",
        "    with torch.no_grad():\n",
        "      # obtain hidden states\n",
        "      outputs = model(tokens_tensor, segments_tensor)\n",
        "      hidden_states = outputs[2]\n",
        "\n",
        "    # concatenate the tensors for all layers\n",
        "    # use \"stack\" to create new dimension in tensor\n",
        "    token_embeddings = torch.stack(hidden_states, dim=0)\n",
        "\n",
        "    # remove dimension 1, the \"batches\"\n",
        "    token_embeddings = torch.squeeze(token_embeddings, dim=1)\n",
        "\n",
        "    # swap dimensions 0 and 1 so we can loop over tokens\n",
        "    token_embeddings = token_embeddings.permute(1,0,2)\n",
        "\n",
        "    # intialized list to store embeddings\n",
        "    token_vecs_sum = []\n",
        "\n",
        "    # \"token_embeddings\" is a [Y x 12 x 768] tensor\n",
        "    # where Y is the number of tokens in the sentence\n",
        "\n",
        "    # loop over tokens in sentence\n",
        "    for token in token_embeddings:\n",
        "\n",
        "        # \"token\" is a [12 x 768] tensor\n",
        "\n",
        "        # sum the vectors from the last four layers\n",
        "        sum_vec = torch.sum(token[-4:], dim=0)\n",
        "        token_vecs_sum.append(sum_vec)\n",
        "\n",
        "    return token_vecs_sum"
      ]
    },
    {
      "cell_type": "code",
      "execution_count": 34,
      "metadata": {
        "colab": {
          "base_uri": "https://localhost:8080/"
        },
        "id": "Nd-VzOnqKC8-",
        "outputId": "c9d08100-9831-4fc4-f323-0d5f3c777cb1"
      },
      "outputs": [
        {
          "output_type": "stream",
          "name": "stderr",
          "text": [
            "100%|██████████| 1/1 [12:56<00:00, 776.72s/it]\n"
          ]
        }
      ],
      "source": [
        "from collections import OrderedDict\n",
        "import pickle\n",
        "import gc\n",
        "import tqdm\n",
        "\n",
        "# Create a list of documents as memory won't be able to handle all of the data in a list in one go \n",
        "\n",
        "list_eng_text=[eng_texts[7501:10000]]\n",
        "\n",
        "# iterating over the list of documents\n",
        "\n",
        "count=4\n",
        "for eng_text in tqdm.tqdm(list_eng_text):\n",
        "  context_embeddings = []\n",
        "  context_tokens = []\n",
        "  for sentence in (eng_text):\n",
        "    tokenized_text, tokens_tensor, segments_tensors = bert_text_preparation(sentence, tokenizer)\n",
        "    list_token_embeddings = get_bert_embeddings(tokens_tensor, segments_tensors, model)\n",
        "\n",
        "    # make ordered dictionary to keep track of the position of each word\n",
        "    tokens = OrderedDict()\n",
        "\n",
        "    # loop over tokens in sensitive sentence\n",
        "    for token in tokenized_text[1:-1]:\n",
        "      # keep track of position of word and whether it occurs multiple times\n",
        "      if token in tokens:\n",
        "        tokens[token] += 1\n",
        "      else:\n",
        "        tokens[token] = 1\n",
        "\n",
        "      # compute the position of the current token\n",
        "      token_indices = [i for i, t in enumerate(tokenized_text) if t == token]\n",
        "      current_index = token_indices[tokens[token]-1]\n",
        "\n",
        "      # get the corresponding embedding\n",
        "      token_vec = list_token_embeddings[current_index]\n",
        "      \n",
        "      # save values\n",
        "      context_tokens.append(token)\n",
        "      context_embeddings.append(token_vec)\n",
        "\n",
        "  with open(dir_path+'/context_tokens'+'/list_'+str(count)+'_count_tokens.pkl', 'wb') as f:\n",
        "      pickle.dump(context_tokens, f)\n",
        "\n",
        "  with open(dir_path+'/context_embeddings'+'/list_'+str(count)+'_context_embeddings.pkl', 'wb') as f:\n",
        "      pickle.dump(context_embeddings, f)\n",
        "  \n",
        "  # clearing out the cuda memory cache after every loop\n",
        "  torch.cuda.empty_cache()\n",
        "  gc.collect()\n",
        "  count=+1"
      ]
    },
    {
      "cell_type": "code",
      "source": [
        "# Loading the contextual embedding\n",
        "\n",
        "path=os.path.join(dir_path+ \"/context_embeddings\")\n",
        "file=os.chdir(path)\n",
        "list_contextual_embedding = [ pickle.load(open(file,\"rb\")) for file in glob.glob(\"*.pkl\")]"
      ],
      "metadata": {
        "id": "nh8sDBtYDlr0"
      },
      "execution_count": 73,
      "outputs": []
    },
    {
      "cell_type": "code",
      "source": [
        "contextual_embedding=list_contextual_embedding[0]+list_contextual_embedding[1]+list_contextual_embedding[2]+list_contextual_embedding[3]"
      ],
      "metadata": {
        "id": "r9tWR8lyGacs"
      },
      "execution_count": 89,
      "outputs": []
    },
    {
      "cell_type": "code",
      "source": [
        "# Loading the context tokens\n",
        "\n",
        "path=os.path.join(dir_path+ \"/context_tokens\")\n",
        "file=os.chdir(path)\n",
        "list_context_tokens = [ pickle.load(open(file,\"rb\")) for file in glob.glob(\"*.pkl\")]"
      ],
      "metadata": {
        "id": "zM8aEIrWCuUj"
      },
      "execution_count": 76,
      "outputs": []
    },
    {
      "cell_type": "code",
      "source": [
        "context_tokens=list_context_tokens[0]+list_context_tokens[1]+list_context_tokens[2]+list_context_tokens[3]"
      ],
      "metadata": {
        "id": "cxismhPAGdT7"
      },
      "execution_count": 77,
      "outputs": []
    },
    {
      "cell_type": "code",
      "source": [
        "from scipy.spatial.distance import cosine\n",
        "\n",
        "# embeddings for the word \n",
        "token = 'covid'\n",
        "indices = [i for i, t in enumerate(context_tokens) if t == token]\n",
        "token_embeddings = [contextual_embedding[i] for i in indices]\n",
        "\n",
        "# # compare 'covid' with different contexts\n",
        "list_of_distances = []\n",
        "for sentence_1, embed1 in zip(eng_text, token_embeddings):\n",
        "    for sentence_2, embed2 in zip(eng_text, token_embeddings):\n",
        "        cos_dist = 1 - cosine(embed1, embed2)\n",
        "        list_of_distances.append([sentence_1, sentence_2, cos_dist])\n",
        "\n",
        "distances_df = pd.DataFrame(list_of_distances, columns=['sentence_1', 'sentence_2', 'distance'])"
      ],
      "metadata": {
        "id": "efHRL2gyHK96"
      },
      "execution_count": 103,
      "outputs": []
    },
    {
      "cell_type": "code",
      "source": [
        "distances_df[distances_df.sentence_1 == \"india\"]"
      ],
      "metadata": {
        "colab": {
          "base_uri": "https://localhost:8080/",
          "height": 49
        },
        "id": "2JDBbhT7G0VJ",
        "outputId": "0d65e3f8-9ac0-416d-84f6-a634e6c8dfdd"
      },
      "execution_count": 104,
      "outputs": [
        {
          "output_type": "execute_result",
          "data": {
            "text/plain": [
              "Empty DataFrame\n",
              "Columns: [sentence_1, sentence_2, distance]\n",
              "Index: []"
            ],
            "text/html": [
              "\n",
              "  <div id=\"df-ff4cf5c4-4f3f-4b2a-b7b9-61ce77dee707\">\n",
              "    <div class=\"colab-df-container\">\n",
              "      <div>\n",
              "<style scoped>\n",
              "    .dataframe tbody tr th:only-of-type {\n",
              "        vertical-align: middle;\n",
              "    }\n",
              "\n",
              "    .dataframe tbody tr th {\n",
              "        vertical-align: top;\n",
              "    }\n",
              "\n",
              "    .dataframe thead th {\n",
              "        text-align: right;\n",
              "    }\n",
              "</style>\n",
              "<table border=\"1\" class=\"dataframe\">\n",
              "  <thead>\n",
              "    <tr style=\"text-align: right;\">\n",
              "      <th></th>\n",
              "      <th>sentence_1</th>\n",
              "      <th>sentence_2</th>\n",
              "      <th>distance</th>\n",
              "    </tr>\n",
              "  </thead>\n",
              "  <tbody>\n",
              "  </tbody>\n",
              "</table>\n",
              "</div>\n",
              "      <button class=\"colab-df-convert\" onclick=\"convertToInteractive('df-ff4cf5c4-4f3f-4b2a-b7b9-61ce77dee707')\"\n",
              "              title=\"Convert this dataframe to an interactive table.\"\n",
              "              style=\"display:none;\">\n",
              "        \n",
              "  <svg xmlns=\"http://www.w3.org/2000/svg\" height=\"24px\"viewBox=\"0 0 24 24\"\n",
              "       width=\"24px\">\n",
              "    <path d=\"M0 0h24v24H0V0z\" fill=\"none\"/>\n",
              "    <path d=\"M18.56 5.44l.94 2.06.94-2.06 2.06-.94-2.06-.94-.94-2.06-.94 2.06-2.06.94zm-11 1L8.5 8.5l.94-2.06 2.06-.94-2.06-.94L8.5 2.5l-.94 2.06-2.06.94zm10 10l.94 2.06.94-2.06 2.06-.94-2.06-.94-.94-2.06-.94 2.06-2.06.94z\"/><path d=\"M17.41 7.96l-1.37-1.37c-.4-.4-.92-.59-1.43-.59-.52 0-1.04.2-1.43.59L10.3 9.45l-7.72 7.72c-.78.78-.78 2.05 0 2.83L4 21.41c.39.39.9.59 1.41.59.51 0 1.02-.2 1.41-.59l7.78-7.78 2.81-2.81c.8-.78.8-2.07 0-2.86zM5.41 20L4 18.59l7.72-7.72 1.47 1.35L5.41 20z\"/>\n",
              "  </svg>\n",
              "      </button>\n",
              "      \n",
              "  <style>\n",
              "    .colab-df-container {\n",
              "      display:flex;\n",
              "      flex-wrap:wrap;\n",
              "      gap: 12px;\n",
              "    }\n",
              "\n",
              "    .colab-df-convert {\n",
              "      background-color: #E8F0FE;\n",
              "      border: none;\n",
              "      border-radius: 50%;\n",
              "      cursor: pointer;\n",
              "      display: none;\n",
              "      fill: #1967D2;\n",
              "      height: 32px;\n",
              "      padding: 0 0 0 0;\n",
              "      width: 32px;\n",
              "    }\n",
              "\n",
              "    .colab-df-convert:hover {\n",
              "      background-color: #E2EBFA;\n",
              "      box-shadow: 0px 1px 2px rgba(60, 64, 67, 0.3), 0px 1px 3px 1px rgba(60, 64, 67, 0.15);\n",
              "      fill: #174EA6;\n",
              "    }\n",
              "\n",
              "    [theme=dark] .colab-df-convert {\n",
              "      background-color: #3B4455;\n",
              "      fill: #D2E3FC;\n",
              "    }\n",
              "\n",
              "    [theme=dark] .colab-df-convert:hover {\n",
              "      background-color: #434B5C;\n",
              "      box-shadow: 0px 1px 3px 1px rgba(0, 0, 0, 0.15);\n",
              "      filter: drop-shadow(0px 1px 2px rgba(0, 0, 0, 0.3));\n",
              "      fill: #FFFFFF;\n",
              "    }\n",
              "  </style>\n",
              "\n",
              "      <script>\n",
              "        const buttonEl =\n",
              "          document.querySelector('#df-ff4cf5c4-4f3f-4b2a-b7b9-61ce77dee707 button.colab-df-convert');\n",
              "        buttonEl.style.display =\n",
              "          google.colab.kernel.accessAllowed ? 'block' : 'none';\n",
              "\n",
              "        async function convertToInteractive(key) {\n",
              "          const element = document.querySelector('#df-ff4cf5c4-4f3f-4b2a-b7b9-61ce77dee707');\n",
              "          const dataTable =\n",
              "            await google.colab.kernel.invokeFunction('convertToInteractive',\n",
              "                                                     [key], {});\n",
              "          if (!dataTable) return;\n",
              "\n",
              "          const docLinkHtml = 'Like what you see? Visit the ' +\n",
              "            '<a target=\"_blank\" href=https://colab.research.google.com/notebooks/data_table.ipynb>data table notebook</a>'\n",
              "            + ' to learn more about interactive tables.';\n",
              "          element.innerHTML = '';\n",
              "          dataTable['output_type'] = 'display_data';\n",
              "          await google.colab.output.renderOutput(dataTable, element);\n",
              "          const docLink = document.createElement('div');\n",
              "          docLink.innerHTML = docLinkHtml;\n",
              "          element.appendChild(docLink);\n",
              "        }\n",
              "      </script>\n",
              "    </div>\n",
              "  </div>\n",
              "  "
            ]
          },
          "metadata": {},
          "execution_count": 104
        }
      ]
    },
    {
      "cell_type": "markdown",
      "source": [
        "![BERT output.jpg](data:image/jpeg;base64,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)"
      ],
      "metadata": {
        "id": "gD-ojTj9e8Ov"
      }
    },
    {
      "cell_type": "markdown",
      "metadata": {
        "id": "RnyIN46BHojN"
      },
      "source": [
        "## Using Dense Passage Retrieval (DPR) from Hugginface\n"
      ]
    },
    {
      "cell_type": "code",
      "execution_count": null,
      "metadata": {
        "id": "Vo-dXmSevDhI"
      },
      "outputs": [],
      "source": [
        "from transformers import TFDPRReader, DPRReaderTokenizer\n",
        "\n",
        "tokenizer = DPRReaderTokenizer.from_pretrained(\"facebook/dpr-reader-single-nq-base\")\n",
        "model = TFDPRReader.from_pretrained(\"facebook/dpr-reader-single-nq-base\", from_pt=True)\n",
        "encoded_inputs = tokenizer(eng_texts , return_tensors=\"tf\")\n",
        "\n",
        "outputs = model(encoded_inputs)\n",
        "start_logits = outputs.start_logits\n",
        "end_logits = outputs.end_logits\n",
        "relevance_logits = outputs.relevance_logits"
      ]
    },
    {
      "cell_type": "code",
      "source": [],
      "metadata": {
        "id": "2MOwQwypGIr2"
      },
      "execution_count": null,
      "outputs": []
    }
  ],
  "metadata": {
    "accelerator": "GPU",
    "colab": {
      "machine_shape": "hm",
      "provenance": [],
      "gpuType": "A100",
      "mount_file_id": "1FyATh1CNqosiyqqwiXvgbvy-0RRxCgoe",
      "authorship_tag": "ABX9TyNH8d6eHIrOdfG1X5+uMGan",
      "include_colab_link": true
    },
    "kernelspec": {
      "display_name": "Python 3",
      "name": "python3"
    },
    "language_info": {
      "name": "python"
    }
  },
  "nbformat": 4,
  "nbformat_minor": 0
}